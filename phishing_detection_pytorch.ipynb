{
 "cells": [
  {
   "attachments": {},
   "cell_type": "markdown",
   "metadata": {},
   "source": [
    "# INF8215 : Intelligence artificielle : méthodes et algorithmes\n",
    "\n",
    "# TP3 - Détection de Phishing\n",
    "\n",
    "Hiver 2023\n",
    "\n",
    "Polytechnique Montréal\n",
    "\n",
    "Benjamin-Ousmane M'Bengue"
   ]
  },
  {
   "cell_type": "code",
   "execution_count": 1,
   "metadata": {},
   "outputs": [
    {
     "data": {
      "text/plain": [
       "True"
      ]
     },
     "execution_count": 1,
     "metadata": {},
     "output_type": "execute_result"
    }
   ],
   "source": [
    "# pip install pytorch\n",
    "# pip install transformers\n",
    "# pip install optuna\n",
    "# pip install datasets\n",
    "# pip install pandas\n",
    "# pip install numpy\n",
    "\n",
    "\n",
    "# utilisation du GPU\n",
    "import gc\n",
    "import torch\n",
    "\n",
    "gc.collect()\n",
    "torch.cuda.empty_cache()\n",
    "torch.cuda.memory_summary(device=None, abbreviated=False)\n",
    "torch.cuda.is_available()"
   ]
  },
  {
   "attachments": {},
   "cell_type": "markdown",
   "metadata": {},
   "source": [
    "## 1. Chargement des données d'entrainement"
   ]
  },
  {
   "cell_type": "code",
   "execution_count": 2,
   "metadata": {},
   "outputs": [
    {
     "data": {
      "text/html": [
       "<div>\n",
       "<style scoped>\n",
       "    .dataframe tbody tr th:only-of-type {\n",
       "        vertical-align: middle;\n",
       "    }\n",
       "\n",
       "    .dataframe tbody tr th {\n",
       "        vertical-align: top;\n",
       "    }\n",
       "\n",
       "    .dataframe thead th {\n",
       "        text-align: right;\n",
       "    }\n",
       "</style>\n",
       "<table border=\"1\" class=\"dataframe\">\n",
       "  <thead>\n",
       "    <tr style=\"text-align: right;\">\n",
       "      <th></th>\n",
       "      <th>Unnamed: 0</th>\n",
       "      <th>url</th>\n",
       "      <th>length_url</th>\n",
       "      <th>length_hostname</th>\n",
       "      <th>ip</th>\n",
       "      <th>nb_dots</th>\n",
       "      <th>nb_hyphens</th>\n",
       "      <th>nb_at</th>\n",
       "      <th>nb_qm</th>\n",
       "      <th>nb_and</th>\n",
       "      <th>...</th>\n",
       "      <th>domain_in_title</th>\n",
       "      <th>domain_with_copyright</th>\n",
       "      <th>whois_registered_domain</th>\n",
       "      <th>domain_registration_length</th>\n",
       "      <th>domain_age</th>\n",
       "      <th>web_traffic</th>\n",
       "      <th>dns_record</th>\n",
       "      <th>google_index</th>\n",
       "      <th>page_rank</th>\n",
       "      <th>status</th>\n",
       "    </tr>\n",
       "  </thead>\n",
       "  <tbody>\n",
       "    <tr>\n",
       "      <th>0</th>\n",
       "      <td>0</td>\n",
       "      <td>http://www.wikihow.com/Clear-Google-Search-His...</td>\n",
       "      <td>50</td>\n",
       "      <td>15</td>\n",
       "      <td>0</td>\n",
       "      <td>2</td>\n",
       "      <td>3</td>\n",
       "      <td>0</td>\n",
       "      <td>0</td>\n",
       "      <td>0</td>\n",
       "      <td>...</td>\n",
       "      <td>0</td>\n",
       "      <td>1</td>\n",
       "      <td>0</td>\n",
       "      <td>1417</td>\n",
       "      <td>5887</td>\n",
       "      <td>184</td>\n",
       "      <td>0</td>\n",
       "      <td>0</td>\n",
       "      <td>6</td>\n",
       "      <td>legitimate</td>\n",
       "    </tr>\n",
       "    <tr>\n",
       "      <th>1</th>\n",
       "      <td>1</td>\n",
       "      <td>https://www.cmanextstep.com/wp-includes/css/fl...</td>\n",
       "      <td>66</td>\n",
       "      <td>19</td>\n",
       "      <td>0</td>\n",
       "      <td>3</td>\n",
       "      <td>1</td>\n",
       "      <td>0</td>\n",
       "      <td>0</td>\n",
       "      <td>0</td>\n",
       "      <td>...</td>\n",
       "      <td>1</td>\n",
       "      <td>0</td>\n",
       "      <td>0</td>\n",
       "      <td>118</td>\n",
       "      <td>2074</td>\n",
       "      <td>4484551</td>\n",
       "      <td>0</td>\n",
       "      <td>1</td>\n",
       "      <td>2</td>\n",
       "      <td>phishing</td>\n",
       "    </tr>\n",
       "    <tr>\n",
       "      <th>2</th>\n",
       "      <td>2</td>\n",
       "      <td>https://fasteratexcel.com/excel-sort-shortcuts/</td>\n",
       "      <td>47</td>\n",
       "      <td>17</td>\n",
       "      <td>0</td>\n",
       "      <td>1</td>\n",
       "      <td>2</td>\n",
       "      <td>0</td>\n",
       "      <td>0</td>\n",
       "      <td>0</td>\n",
       "      <td>...</td>\n",
       "      <td>1</td>\n",
       "      <td>1</td>\n",
       "      <td>0</td>\n",
       "      <td>775</td>\n",
       "      <td>2146</td>\n",
       "      <td>1529081</td>\n",
       "      <td>0</td>\n",
       "      <td>0</td>\n",
       "      <td>2</td>\n",
       "      <td>legitimate</td>\n",
       "    </tr>\n",
       "    <tr>\n",
       "      <th>3</th>\n",
       "      <td>3</td>\n",
       "      <td>https://share.hsforms.com/1HWBy9E8zQ5CPqHe5EI6...</td>\n",
       "      <td>54</td>\n",
       "      <td>17</td>\n",
       "      <td>0</td>\n",
       "      <td>2</td>\n",
       "      <td>0</td>\n",
       "      <td>0</td>\n",
       "      <td>0</td>\n",
       "      <td>0</td>\n",
       "      <td>...</td>\n",
       "      <td>1</td>\n",
       "      <td>0</td>\n",
       "      <td>0</td>\n",
       "      <td>56</td>\n",
       "      <td>2501</td>\n",
       "      <td>8469</td>\n",
       "      <td>0</td>\n",
       "      <td>0</td>\n",
       "      <td>2</td>\n",
       "      <td>phishing</td>\n",
       "    </tr>\n",
       "    <tr>\n",
       "      <th>4</th>\n",
       "      <td>4</td>\n",
       "      <td>http://abouthappybirthday.blogspot.com</td>\n",
       "      <td>38</td>\n",
       "      <td>31</td>\n",
       "      <td>0</td>\n",
       "      <td>2</td>\n",
       "      <td>0</td>\n",
       "      <td>0</td>\n",
       "      <td>0</td>\n",
       "      <td>0</td>\n",
       "      <td>...</td>\n",
       "      <td>1</td>\n",
       "      <td>0</td>\n",
       "      <td>0</td>\n",
       "      <td>372</td>\n",
       "      <td>7297</td>\n",
       "      <td>0</td>\n",
       "      <td>0</td>\n",
       "      <td>0</td>\n",
       "      <td>5</td>\n",
       "      <td>legitimate</td>\n",
       "    </tr>\n",
       "    <tr>\n",
       "      <th>...</th>\n",
       "      <td>...</td>\n",
       "      <td>...</td>\n",
       "      <td>...</td>\n",
       "      <td>...</td>\n",
       "      <td>...</td>\n",
       "      <td>...</td>\n",
       "      <td>...</td>\n",
       "      <td>...</td>\n",
       "      <td>...</td>\n",
       "      <td>...</td>\n",
       "      <td>...</td>\n",
       "      <td>...</td>\n",
       "      <td>...</td>\n",
       "      <td>...</td>\n",
       "      <td>...</td>\n",
       "      <td>...</td>\n",
       "      <td>...</td>\n",
       "      <td>...</td>\n",
       "      <td>...</td>\n",
       "      <td>...</td>\n",
       "      <td>...</td>\n",
       "    </tr>\n",
       "    <tr>\n",
       "      <th>8167</th>\n",
       "      <td>8167</td>\n",
       "      <td>http://www.biocreative.org/media/store/files/2...</td>\n",
       "      <td>63</td>\n",
       "      <td>19</td>\n",
       "      <td>0</td>\n",
       "      <td>3</td>\n",
       "      <td>0</td>\n",
       "      <td>0</td>\n",
       "      <td>0</td>\n",
       "      <td>0</td>\n",
       "      <td>...</td>\n",
       "      <td>1</td>\n",
       "      <td>1</td>\n",
       "      <td>0</td>\n",
       "      <td>58</td>\n",
       "      <td>-1</td>\n",
       "      <td>0</td>\n",
       "      <td>0</td>\n",
       "      <td>0</td>\n",
       "      <td>4</td>\n",
       "      <td>legitimate</td>\n",
       "    </tr>\n",
       "    <tr>\n",
       "      <th>8168</th>\n",
       "      <td>8168</td>\n",
       "      <td>https://www.joserobles.com/</td>\n",
       "      <td>27</td>\n",
       "      <td>18</td>\n",
       "      <td>0</td>\n",
       "      <td>2</td>\n",
       "      <td>0</td>\n",
       "      <td>0</td>\n",
       "      <td>0</td>\n",
       "      <td>0</td>\n",
       "      <td>...</td>\n",
       "      <td>1</td>\n",
       "      <td>1</td>\n",
       "      <td>0</td>\n",
       "      <td>329</td>\n",
       "      <td>5879</td>\n",
       "      <td>0</td>\n",
       "      <td>0</td>\n",
       "      <td>0</td>\n",
       "      <td>1</td>\n",
       "      <td>legitimate</td>\n",
       "    </tr>\n",
       "    <tr>\n",
       "      <th>8169</th>\n",
       "      <td>8169</td>\n",
       "      <td>http://www.ciclic.fr/</td>\n",
       "      <td>21</td>\n",
       "      <td>13</td>\n",
       "      <td>0</td>\n",
       "      <td>2</td>\n",
       "      <td>0</td>\n",
       "      <td>0</td>\n",
       "      <td>0</td>\n",
       "      <td>0</td>\n",
       "      <td>...</td>\n",
       "      <td>0</td>\n",
       "      <td>1</td>\n",
       "      <td>0</td>\n",
       "      <td>116</td>\n",
       "      <td>3902</td>\n",
       "      <td>544866</td>\n",
       "      <td>0</td>\n",
       "      <td>0</td>\n",
       "      <td>3</td>\n",
       "      <td>legitimate</td>\n",
       "    </tr>\n",
       "    <tr>\n",
       "      <th>8170</th>\n",
       "      <td>8170</td>\n",
       "      <td>http://secureupdate.appleld.com.duilawyeryork....</td>\n",
       "      <td>68</td>\n",
       "      <td>42</td>\n",
       "      <td>1</td>\n",
       "      <td>4</td>\n",
       "      <td>0</td>\n",
       "      <td>0</td>\n",
       "      <td>0</td>\n",
       "      <td>0</td>\n",
       "      <td>...</td>\n",
       "      <td>1</td>\n",
       "      <td>1</td>\n",
       "      <td>0</td>\n",
       "      <td>25</td>\n",
       "      <td>3992</td>\n",
       "      <td>5697976</td>\n",
       "      <td>0</td>\n",
       "      <td>1</td>\n",
       "      <td>0</td>\n",
       "      <td>phishing</td>\n",
       "    </tr>\n",
       "    <tr>\n",
       "      <th>8171</th>\n",
       "      <td>8171</td>\n",
       "      <td>http://www.samducksports.com/wp-content/envato...</td>\n",
       "      <td>66</td>\n",
       "      <td>21</td>\n",
       "      <td>0</td>\n",
       "      <td>3</td>\n",
       "      <td>2</td>\n",
       "      <td>0</td>\n",
       "      <td>0</td>\n",
       "      <td>0</td>\n",
       "      <td>...</td>\n",
       "      <td>1</td>\n",
       "      <td>1</td>\n",
       "      <td>0</td>\n",
       "      <td>159</td>\n",
       "      <td>3859</td>\n",
       "      <td>0</td>\n",
       "      <td>0</td>\n",
       "      <td>1</td>\n",
       "      <td>2</td>\n",
       "      <td>phishing</td>\n",
       "    </tr>\n",
       "  </tbody>\n",
       "</table>\n",
       "<p>8172 rows × 90 columns</p>\n",
       "</div>"
      ],
      "text/plain": [
       "      Unnamed: 0                                                url  \\\n",
       "0              0  http://www.wikihow.com/Clear-Google-Search-His...   \n",
       "1              1  https://www.cmanextstep.com/wp-includes/css/fl...   \n",
       "2              2    https://fasteratexcel.com/excel-sort-shortcuts/   \n",
       "3              3  https://share.hsforms.com/1HWBy9E8zQ5CPqHe5EI6...   \n",
       "4              4             http://abouthappybirthday.blogspot.com   \n",
       "...          ...                                                ...   \n",
       "8167        8167  http://www.biocreative.org/media/store/files/2...   \n",
       "8168        8168                        https://www.joserobles.com/   \n",
       "8169        8169                              http://www.ciclic.fr/   \n",
       "8170        8170  http://secureupdate.appleld.com.duilawyeryork....   \n",
       "8171        8171  http://www.samducksports.com/wp-content/envato...   \n",
       "\n",
       "      length_url  length_hostname  ip  nb_dots  nb_hyphens  nb_at  nb_qm  \\\n",
       "0             50               15   0        2           3      0      0   \n",
       "1             66               19   0        3           1      0      0   \n",
       "2             47               17   0        1           2      0      0   \n",
       "3             54               17   0        2           0      0      0   \n",
       "4             38               31   0        2           0      0      0   \n",
       "...          ...              ...  ..      ...         ...    ...    ...   \n",
       "8167          63               19   0        3           0      0      0   \n",
       "8168          27               18   0        2           0      0      0   \n",
       "8169          21               13   0        2           0      0      0   \n",
       "8170          68               42   1        4           0      0      0   \n",
       "8171          66               21   0        3           2      0      0   \n",
       "\n",
       "      nb_and  ...  domain_in_title  domain_with_copyright  \\\n",
       "0          0  ...                0                      1   \n",
       "1          0  ...                1                      0   \n",
       "2          0  ...                1                      1   \n",
       "3          0  ...                1                      0   \n",
       "4          0  ...                1                      0   \n",
       "...      ...  ...              ...                    ...   \n",
       "8167       0  ...                1                      1   \n",
       "8168       0  ...                1                      1   \n",
       "8169       0  ...                0                      1   \n",
       "8170       0  ...                1                      1   \n",
       "8171       0  ...                1                      1   \n",
       "\n",
       "      whois_registered_domain  domain_registration_length  domain_age  \\\n",
       "0                           0                        1417        5887   \n",
       "1                           0                         118        2074   \n",
       "2                           0                         775        2146   \n",
       "3                           0                          56        2501   \n",
       "4                           0                         372        7297   \n",
       "...                       ...                         ...         ...   \n",
       "8167                        0                          58          -1   \n",
       "8168                        0                         329        5879   \n",
       "8169                        0                         116        3902   \n",
       "8170                        0                          25        3992   \n",
       "8171                        0                         159        3859   \n",
       "\n",
       "      web_traffic  dns_record  google_index  page_rank      status  \n",
       "0             184           0             0          6  legitimate  \n",
       "1         4484551           0             1          2    phishing  \n",
       "2         1529081           0             0          2  legitimate  \n",
       "3            8469           0             0          2    phishing  \n",
       "4               0           0             0          5  legitimate  \n",
       "...           ...         ...           ...        ...         ...  \n",
       "8167            0           0             0          4  legitimate  \n",
       "8168            0           0             0          1  legitimate  \n",
       "8169       544866           0             0          3  legitimate  \n",
       "8170      5697976           0             1          0    phishing  \n",
       "8171            0           0             1          2    phishing  \n",
       "\n",
       "[8172 rows x 90 columns]"
      ]
     },
     "execution_count": 2,
     "metadata": {},
     "output_type": "execute_result"
    }
   ],
   "source": [
    "import pandas as pd\n",
    "\n",
    "df = pd.read_csv('train.csv')\n",
    "df"
   ]
  },
  {
   "attachments": {},
   "cell_type": "markdown",
   "metadata": {},
   "source": [
    "## 2. Prétraitement des données"
   ]
  },
  {
   "attachments": {},
   "cell_type": "markdown",
   "metadata": {},
   "source": [
    "### 2.1 Selection des variables\n",
    "\n",
    "Nous allons utiliser une approche NLP avec la librairie HuggingFace (https://huggingface.co/) qui nous permet d'utiliser des modèles Transformers.<br>\n",
    "Nous allons donc nous concentrer seulement sur la variable 'url' et gardons les colonnes suivantes :<br>\n",
    "  - 'url' : feature\n",
    "  - 'status' : variable de prédiction\n"
   ]
  },
  {
   "cell_type": "code",
   "execution_count": 3,
   "metadata": {},
   "outputs": [
    {
     "data": {
      "text/html": [
       "<div>\n",
       "<style scoped>\n",
       "    .dataframe tbody tr th:only-of-type {\n",
       "        vertical-align: middle;\n",
       "    }\n",
       "\n",
       "    .dataframe tbody tr th {\n",
       "        vertical-align: top;\n",
       "    }\n",
       "\n",
       "    .dataframe thead th {\n",
       "        text-align: right;\n",
       "    }\n",
       "</style>\n",
       "<table border=\"1\" class=\"dataframe\">\n",
       "  <thead>\n",
       "    <tr style=\"text-align: right;\">\n",
       "      <th></th>\n",
       "      <th>url</th>\n",
       "      <th>status</th>\n",
       "    </tr>\n",
       "  </thead>\n",
       "  <tbody>\n",
       "    <tr>\n",
       "      <th>0</th>\n",
       "      <td>http://www.wikihow.com/Clear-Google-Search-His...</td>\n",
       "      <td>legitimate</td>\n",
       "    </tr>\n",
       "    <tr>\n",
       "      <th>1</th>\n",
       "      <td>https://www.cmanextstep.com/wp-includes/css/fl...</td>\n",
       "      <td>phishing</td>\n",
       "    </tr>\n",
       "    <tr>\n",
       "      <th>2</th>\n",
       "      <td>https://fasteratexcel.com/excel-sort-shortcuts/</td>\n",
       "      <td>legitimate</td>\n",
       "    </tr>\n",
       "    <tr>\n",
       "      <th>3</th>\n",
       "      <td>https://share.hsforms.com/1HWBy9E8zQ5CPqHe5EI6...</td>\n",
       "      <td>phishing</td>\n",
       "    </tr>\n",
       "    <tr>\n",
       "      <th>4</th>\n",
       "      <td>http://abouthappybirthday.blogspot.com</td>\n",
       "      <td>legitimate</td>\n",
       "    </tr>\n",
       "    <tr>\n",
       "      <th>...</th>\n",
       "      <td>...</td>\n",
       "      <td>...</td>\n",
       "    </tr>\n",
       "    <tr>\n",
       "      <th>8167</th>\n",
       "      <td>http://www.biocreative.org/media/store/files/2...</td>\n",
       "      <td>legitimate</td>\n",
       "    </tr>\n",
       "    <tr>\n",
       "      <th>8168</th>\n",
       "      <td>https://www.joserobles.com/</td>\n",
       "      <td>legitimate</td>\n",
       "    </tr>\n",
       "    <tr>\n",
       "      <th>8169</th>\n",
       "      <td>http://www.ciclic.fr/</td>\n",
       "      <td>legitimate</td>\n",
       "    </tr>\n",
       "    <tr>\n",
       "      <th>8170</th>\n",
       "      <td>http://secureupdate.appleld.com.duilawyeryork....</td>\n",
       "      <td>phishing</td>\n",
       "    </tr>\n",
       "    <tr>\n",
       "      <th>8171</th>\n",
       "      <td>http://www.samducksports.com/wp-content/envato...</td>\n",
       "      <td>phishing</td>\n",
       "    </tr>\n",
       "  </tbody>\n",
       "</table>\n",
       "<p>8172 rows × 2 columns</p>\n",
       "</div>"
      ],
      "text/plain": [
       "                                                    url      status\n",
       "0     http://www.wikihow.com/Clear-Google-Search-His...  legitimate\n",
       "1     https://www.cmanextstep.com/wp-includes/css/fl...    phishing\n",
       "2       https://fasteratexcel.com/excel-sort-shortcuts/  legitimate\n",
       "3     https://share.hsforms.com/1HWBy9E8zQ5CPqHe5EI6...    phishing\n",
       "4                http://abouthappybirthday.blogspot.com  legitimate\n",
       "...                                                 ...         ...\n",
       "8167  http://www.biocreative.org/media/store/files/2...  legitimate\n",
       "8168                        https://www.joserobles.com/  legitimate\n",
       "8169                              http://www.ciclic.fr/  legitimate\n",
       "8170  http://secureupdate.appleld.com.duilawyeryork....    phishing\n",
       "8171  http://www.samducksports.com/wp-content/envato...    phishing\n",
       "\n",
       "[8172 rows x 2 columns]"
      ]
     },
     "execution_count": 3,
     "metadata": {},
     "output_type": "execute_result"
    }
   ],
   "source": [
    "df = df[['url', 'status']]\n",
    "df"
   ]
  },
  {
   "attachments": {},
   "cell_type": "markdown",
   "metadata": {},
   "source": [
    "### 2.2 Analyse des classes\n",
    "\n",
    "Examinons la variable de prédiction 'status' pour voir s'il y a un déséquilibre entre les classes 'legitimate' et 'phishing'."
   ]
  },
  {
   "cell_type": "code",
   "execution_count": 4,
   "metadata": {},
   "outputs": [
    {
     "data": {
      "text/plain": [
       "legitimate    4629\n",
       "phishing      3543\n",
       "Name: status, dtype: int64"
      ]
     },
     "execution_count": 4,
     "metadata": {},
     "output_type": "execute_result"
    }
   ],
   "source": [
    "df['status'].value_counts()"
   ]
  },
  {
   "attachments": {},
   "cell_type": "markdown",
   "metadata": {},
   "source": [
    "Nous observons un déséquilibre entre nos classes.<br>\n",
    "Comme le jeu de donnée est grand, nous pouvons utiliser la technique de sous-échantillonnage pour rééequilibrer nos classes."
   ]
  },
  {
   "cell_type": "code",
   "execution_count": 5,
   "metadata": {},
   "outputs": [
    {
     "name": "stdout",
     "output_type": "stream",
     "text": [
      "legitimate    3543\n",
      "phishing      3543\n",
      "Name: status, dtype: int64\n"
     ]
    }
   ],
   "source": [
    "from sklearn.utils import resample\n",
    "\n",
    "# Séparer les observations en deux ensembles différents\n",
    "df_phishing = df[df.status == 'phishing']\n",
    "df_legitimate = df[df.status == 'legitimate']\n",
    "\n",
    "# Sous-échantillonner la classe majoritaire\n",
    "df_legitimate_downsampled = resample(df_legitimate,\n",
    "                                   replace=False,\n",
    "                                   n_samples=len(df_phishing),\n",
    "                                   random_state=42)\n",
    "\n",
    "# Concaténer les deux ensembles\n",
    "df = pd.concat([df_legitimate_downsampled, df_phishing])\n",
    "\n",
    "# Vérifier la taille de chaque classe dans l'ensemble de données sous-échantillonné\n",
    "print(df['status'].value_counts())"
   ]
  },
  {
   "attachments": {},
   "cell_type": "markdown",
   "metadata": {},
   "source": [
    "### 2.3 Formatage et séparation des données pour Huggingface"
   ]
  },
  {
   "attachments": {},
   "cell_type": "markdown",
   "metadata": {},
   "source": [
    "Il faut renommer les colonnes pour que cela convienne aux modèles de HuggingFace. <br>\n",
    "Nous devons également encoder les valeurs des labels en int.\n",
    "- legitimate -> 0\n",
    "- phishing -> 1"
   ]
  },
  {
   "cell_type": "code",
   "execution_count": 6,
   "metadata": {},
   "outputs": [
    {
     "data": {
      "text/html": [
       "<div>\n",
       "<style scoped>\n",
       "    .dataframe tbody tr th:only-of-type {\n",
       "        vertical-align: middle;\n",
       "    }\n",
       "\n",
       "    .dataframe tbody tr th {\n",
       "        vertical-align: top;\n",
       "    }\n",
       "\n",
       "    .dataframe thead th {\n",
       "        text-align: right;\n",
       "    }\n",
       "</style>\n",
       "<table border=\"1\" class=\"dataframe\">\n",
       "  <thead>\n",
       "    <tr style=\"text-align: right;\">\n",
       "      <th></th>\n",
       "      <th>text</th>\n",
       "      <th>labels</th>\n",
       "    </tr>\n",
       "  </thead>\n",
       "  <tbody>\n",
       "    <tr>\n",
       "      <th>7229</th>\n",
       "      <td>http://itlaw.wikia.com/wiki/Command_and_contro...</td>\n",
       "      <td>0</td>\n",
       "    </tr>\n",
       "    <tr>\n",
       "      <th>1895</th>\n",
       "      <td>https://www.youtube.com/user/NBCNightlyNews</td>\n",
       "      <td>0</td>\n",
       "    </tr>\n",
       "    <tr>\n",
       "      <th>4243</th>\n",
       "      <td>https://en.wikipedia.org/wiki/Router_(woodwork...</td>\n",
       "      <td>0</td>\n",
       "    </tr>\n",
       "    <tr>\n",
       "      <th>8143</th>\n",
       "      <td>http://lauvaylaparra.blogspot.com/</td>\n",
       "      <td>0</td>\n",
       "    </tr>\n",
       "    <tr>\n",
       "      <th>50</th>\n",
       "      <td>https://www.slideshare.net/Haddies/food-proces...</td>\n",
       "      <td>0</td>\n",
       "    </tr>\n",
       "    <tr>\n",
       "      <th>...</th>\n",
       "      <td>...</td>\n",
       "      <td>...</td>\n",
       "    </tr>\n",
       "    <tr>\n",
       "      <th>8162</th>\n",
       "      <td>http://infantbaptism.net/libraries/fof/utils/i...</td>\n",
       "      <td>1</td>\n",
       "    </tr>\n",
       "    <tr>\n",
       "      <th>8164</th>\n",
       "      <td>http://vps-6e0e78eb.vps.ovh.net/</td>\n",
       "      <td>1</td>\n",
       "    </tr>\n",
       "    <tr>\n",
       "      <th>8166</th>\n",
       "      <td>http://storage.googleapis.com/cftu6r8bigigi8.a...</td>\n",
       "      <td>1</td>\n",
       "    </tr>\n",
       "    <tr>\n",
       "      <th>8170</th>\n",
       "      <td>http://secureupdate.appleld.com.duilawyeryork....</td>\n",
       "      <td>1</td>\n",
       "    </tr>\n",
       "    <tr>\n",
       "      <th>8171</th>\n",
       "      <td>http://www.samducksports.com/wp-content/envato...</td>\n",
       "      <td>1</td>\n",
       "    </tr>\n",
       "  </tbody>\n",
       "</table>\n",
       "<p>7086 rows × 2 columns</p>\n",
       "</div>"
      ],
      "text/plain": [
       "                                                   text  labels\n",
       "7229  http://itlaw.wikia.com/wiki/Command_and_contro...       0\n",
       "1895        https://www.youtube.com/user/NBCNightlyNews       0\n",
       "4243  https://en.wikipedia.org/wiki/Router_(woodwork...       0\n",
       "8143                 http://lauvaylaparra.blogspot.com/       0\n",
       "50    https://www.slideshare.net/Haddies/food-proces...       0\n",
       "...                                                 ...     ...\n",
       "8162  http://infantbaptism.net/libraries/fof/utils/i...       1\n",
       "8164                   http://vps-6e0e78eb.vps.ovh.net/       1\n",
       "8166  http://storage.googleapis.com/cftu6r8bigigi8.a...       1\n",
       "8170  http://secureupdate.appleld.com.duilawyeryork....       1\n",
       "8171  http://www.samducksports.com/wp-content/envato...       1\n",
       "\n",
       "[7086 rows x 2 columns]"
      ]
     },
     "execution_count": 6,
     "metadata": {},
     "output_type": "execute_result"
    }
   ],
   "source": [
    "from sklearn.preprocessing import LabelEncoder\n",
    "\n",
    "df = df.rename(columns={\"url\": \"text\", \"status\": \"labels\"})\n",
    "\n",
    "le = LabelEncoder()\n",
    "df['labels'] = le.fit_transform(df['labels'])\n",
    "df"
   ]
  },
  {
   "attachments": {},
   "cell_type": "markdown",
   "metadata": {},
   "source": [
    "Nous séparons nos données en jeux d'entrainement, de test et de validation suivant le ratio 90/5/5. <br>\n",
    "Les ensemble de train est assez conséquent car nous allons le diviser plus tard pour que la recherche d'hyperparamètre ne prenne pas trop de temps."
   ]
  },
  {
   "cell_type": "code",
   "execution_count": 7,
   "metadata": {},
   "outputs": [
    {
     "name": "stdout",
     "output_type": "stream",
     "text": [
      "(6377, 2)\n",
      "(354, 2)\n",
      "(355, 2)\n"
     ]
    }
   ],
   "source": [
    "df_train =df.sample(frac=0.9,random_state=200)\n",
    "df_others = df.drop(df_train.index)\n",
    "df_test = df_others.sample(frac=0.5, random_state=200)\n",
    "df_valid = df_others.drop(df_test.index)\n",
    "\n",
    "print(df_train.shape)\n",
    "print(df_test.shape)\n",
    "print(df_valid.shape)"
   ]
  },
  {
   "attachments": {},
   "cell_type": "markdown",
   "metadata": {},
   "source": [
    "Les modèles de HuggingFace fonctionnent avec des objets datasetDict de la librairie datasets. <br>\n",
    "Il faut donc convertir les dataframes pandas.\n"
   ]
  },
  {
   "cell_type": "code",
   "execution_count": 8,
   "metadata": {},
   "outputs": [
    {
     "name": "stderr",
     "output_type": "stream",
     "text": [
      "c:\\Users\\ousma\\miniconda3\\envs\\streamlit-env\\lib\\site-packages\\tqdm\\auto.py:22: TqdmWarning: IProgress not found. Please update jupyter and ipywidgets. See https://ipywidgets.readthedocs.io/en/stable/user_install.html\n",
      "  from .autonotebook import tqdm as notebook_tqdm\n"
     ]
    },
    {
     "name": "stdout",
     "output_type": "stream",
     "text": [
      "DatasetDict({\n",
      "    train: Dataset({\n",
      "        features: ['text', 'labels', '__index_level_0__'],\n",
      "        num_rows: 6377\n",
      "    })\n",
      "    test: Dataset({\n",
      "        features: ['text', 'labels', '__index_level_0__'],\n",
      "        num_rows: 354\n",
      "    })\n",
      "    validation: Dataset({\n",
      "        features: ['text', 'labels', '__index_level_0__'],\n",
      "        num_rows: 355\n",
      "    })\n",
      "})\n",
      "{'text': 'http://prevtek.com/blog/profile/', 'labels': 1, '__index_level_0__': 8030}\n",
      "{'text': 'https://www.emploi-petrole.com/', 'labels': 0, '__index_level_0__': 1094}\n",
      "{'text': 'https://www.supersamastore.it/', 'labels': 0, '__index_level_0__': 6136}\n"
     ]
    }
   ],
   "source": [
    "from datasets import Dataset, DatasetDict\n",
    "\n",
    "dataset_train = Dataset.from_pandas(df_train)\n",
    "dataset_test= Dataset.from_pandas(df_test)\n",
    "dataset_valid= Dataset.from_pandas(df_valid)\n",
    "dataset = DatasetDict(\n",
    "    {\n",
    "        \"train\": dataset_train,\n",
    "        \"test\": dataset_test,\n",
    "        \"validation\": dataset_valid\n",
    "    }\n",
    ")\n",
    "\n",
    "print(dataset)\n",
    "print(dataset[\"train\"][0])\n",
    "print(dataset[\"test\"][0])\n",
    "print(dataset[\"validation\"][0])"
   ]
  },
  {
   "attachments": {},
   "cell_type": "markdown",
   "metadata": {},
   "source": [
    "### 2.4 Tokenization des urls\n",
    "\n",
    "Nous utilisons le modèle pré-entrainé de la librairie huggingFace pour la tokenization des urls. <br>\n",
    "https://huggingface.co/priyabrat/new_bert_url_clasification <br>\n",
    "\n",
    "La tokenization sert à transformer un texte brut (ici nos URLs) en une séquence de \"tokens\" représentant les unités de sens du texte.<br>\n",
    "Ces tokens seront ensuite utilisés en entrée de notre modèle de classification pour nos prédictions.\n",
    "\n",
    "Nous devons d'abord charger le modèle."
   ]
  },
  {
   "cell_type": "code",
   "execution_count": 9,
   "metadata": {},
   "outputs": [],
   "source": [
    "from transformers import AutoTokenizer\n",
    "\n",
    "model_checkpoint = 'priyabrat/new_bert_url_clasification'\n",
    "\n",
    "# le parametre \"use_fast\" permet de charger la version rapide du modèle. \n",
    "tokenizer = AutoTokenizer.from_pretrained(model_checkpoint, use_fast=True)"
   ]
  },
  {
   "attachments": {},
   "cell_type": "markdown",
   "metadata": {},
   "source": [
    "Nous pouvons observer comment le tokenizer sépare un url en tokens :"
   ]
  },
  {
   "cell_type": "code",
   "execution_count": 10,
   "metadata": {},
   "outputs": [
    {
     "data": {
      "text/plain": [
       "['http',\n",
       " ':',\n",
       " '/',\n",
       " '/',\n",
       " 'pre',\n",
       " '##v',\n",
       " '##tek',\n",
       " '.',\n",
       " 'com',\n",
       " '/',\n",
       " 'blog',\n",
       " '/',\n",
       " 'profile',\n",
       " '/']"
      ]
     },
     "execution_count": 10,
     "metadata": {},
     "output_type": "execute_result"
    }
   ],
   "source": [
    "tokenizer.tokenize(dataset[\"train\"][0]['text'])"
   ]
  },
  {
   "attachments": {},
   "cell_type": "markdown",
   "metadata": {},
   "source": [
    "Chaque token possède son ID. <br>\n",
    "De plus, un masque d'attention sera calculé."
   ]
  },
  {
   "cell_type": "code",
   "execution_count": 11,
   "metadata": {},
   "outputs": [
    {
     "data": {
      "text/plain": [
       "{'input_ids': [101, 8299, 1024, 1013, 1013, 3653, 2615, 23125, 1012, 4012, 1013, 9927, 1013, 6337, 1013, 102], 'token_type_ids': [0, 0, 0, 0, 0, 0, 0, 0, 0, 0, 0, 0, 0, 0, 0, 0], 'attention_mask': [1, 1, 1, 1, 1, 1, 1, 1, 1, 1, 1, 1, 1, 1, 1, 1]}"
      ]
     },
     "execution_count": 11,
     "metadata": {},
     "output_type": "execute_result"
    }
   ],
   "source": [
    "tokenizer(dataset[\"train\"][0]['text'])"
   ]
  },
  {
   "attachments": {},
   "cell_type": "markdown",
   "metadata": {},
   "source": [
    "Examinons le nombre de tokens de nos urls."
   ]
  },
  {
   "cell_type": "code",
   "execution_count": 12,
   "metadata": {},
   "outputs": [
    {
     "data": {
      "text/plain": [
       "count    7086.000000\n",
       "mean       27.929579\n",
       "std        26.523485\n",
       "min         7.000000\n",
       "25%        15.000000\n",
       "50%        20.000000\n",
       "75%        31.000000\n",
       "max       631.000000\n",
       "Name: lengths, dtype: float64"
      ]
     },
     "execution_count": 12,
     "metadata": {},
     "output_type": "execute_result"
    }
   ],
   "source": [
    "df['lengths'] = df['text'].apply(lambda x: len(tokenizer.tokenize(x)))\n",
    "\n",
    "# obtenir des statistiques descriptives\n",
    "df['lengths'].describe()"
   ]
  },
  {
   "attachments": {},
   "cell_type": "markdown",
   "metadata": {},
   "source": [
    "Il nous faut définir une longueur maximum pour tronquer le nombre de tokens (cela est indispensable pour le modèle). <br>\n",
    "Une longueur maximum haute augmente le temps d'entrainement des modèles. <br>\n",
    "Grace à ces stats, une longueur maximum de 50 semble cohérente."
   ]
  },
  {
   "attachments": {},
   "cell_type": "markdown",
   "metadata": {},
   "source": [
    "Il faut maintenant appliquer la Tokenization à notre dataset en entier."
   ]
  },
  {
   "cell_type": "code",
   "execution_count": 13,
   "metadata": {},
   "outputs": [
    {
     "name": "stderr",
     "output_type": "stream",
     "text": [
      "                                                                  "
     ]
    },
    {
     "name": "stdout",
     "output_type": "stream",
     "text": [
      "DatasetDict({\n",
      "    train: Dataset({\n",
      "        features: ['text', 'labels', '__index_level_0__', 'input_ids', 'token_type_ids', 'attention_mask'],\n",
      "        num_rows: 6377\n",
      "    })\n",
      "    test: Dataset({\n",
      "        features: ['text', 'labels', '__index_level_0__', 'input_ids', 'token_type_ids', 'attention_mask'],\n",
      "        num_rows: 354\n",
      "    })\n",
      "    validation: Dataset({\n",
      "        features: ['text', 'labels', '__index_level_0__', 'input_ids', 'token_type_ids', 'attention_mask'],\n",
      "        num_rows: 355\n",
      "    })\n",
      "})\n",
      "{'text': ['http://prevtek.com/blog/profile/', 'https://www.tumblr.com/safe-mode?url=https%3A%2F%2Fscatparadise.tumblr.com%2F'], 'labels': [1, 0], '__index_level_0__': [8030, 7821], 'input_ids': [[101, 8299, 1024, 1013, 1013, 3653, 2615, 23125, 1012, 4012, 1013, 9927, 1013, 6337, 1013, 102, 0, 0, 0, 0, 0, 0, 0, 0, 0, 0, 0, 0, 0, 0, 0, 0, 0, 0, 0, 0, 0, 0, 0, 0, 0, 0, 0, 0, 0, 0, 0, 0, 0, 0], [101, 16770, 1024, 1013, 1013, 7479, 1012, 10722, 14905, 20974, 1012, 4012, 1013, 3647, 1011, 5549, 1029, 24471, 2140, 1027, 16770, 1003, 23842, 1003, 1016, 2546, 1003, 1016, 10343, 11266, 28689, 10521, 2063, 1012, 10722, 14905, 20974, 1012, 4012, 1003, 1016, 2546, 102, 0, 0, 0, 0, 0, 0, 0]], 'token_type_ids': [[0, 0, 0, 0, 0, 0, 0, 0, 0, 0, 0, 0, 0, 0, 0, 0, 0, 0, 0, 0, 0, 0, 0, 0, 0, 0, 0, 0, 0, 0, 0, 0, 0, 0, 0, 0, 0, 0, 0, 0, 0, 0, 0, 0, 0, 0, 0, 0, 0, 0], [0, 0, 0, 0, 0, 0, 0, 0, 0, 0, 0, 0, 0, 0, 0, 0, 0, 0, 0, 0, 0, 0, 0, 0, 0, 0, 0, 0, 0, 0, 0, 0, 0, 0, 0, 0, 0, 0, 0, 0, 0, 0, 0, 0, 0, 0, 0, 0, 0, 0]], 'attention_mask': [[1, 1, 1, 1, 1, 1, 1, 1, 1, 1, 1, 1, 1, 1, 1, 1, 0, 0, 0, 0, 0, 0, 0, 0, 0, 0, 0, 0, 0, 0, 0, 0, 0, 0, 0, 0, 0, 0, 0, 0, 0, 0, 0, 0, 0, 0, 0, 0, 0, 0], [1, 1, 1, 1, 1, 1, 1, 1, 1, 1, 1, 1, 1, 1, 1, 1, 1, 1, 1, 1, 1, 1, 1, 1, 1, 1, 1, 1, 1, 1, 1, 1, 1, 1, 1, 1, 1, 1, 1, 1, 1, 1, 1, 0, 0, 0, 0, 0, 0, 0]]}\n"
     ]
    },
    {
     "name": "stderr",
     "output_type": "stream",
     "text": [
      "\r"
     ]
    }
   ],
   "source": [
    "def preprocess_function(urls):\n",
    "    return tokenizer(urls['text'], truncation=True, padding=True,  max_length=50)\n",
    "\n",
    "\n",
    "encoded_dataset = dataset.map(preprocess_function, batched=True)\n",
    "\n",
    "print(encoded_dataset)\n",
    "# Afficher les 2 premières lignes du dataset après la tokenization\n",
    "print(encoded_dataset['train'][:2])"
   ]
  },
  {
   "attachments": {},
   "cell_type": "markdown",
   "metadata": {},
   "source": [
    "Maintenant, nos données sont prêtes à entrer dans un modèle de classification. <br>"
   ]
  },
  {
   "attachments": {},
   "cell_type": "markdown",
   "metadata": {},
   "source": [
    "## 3. Modélisation\n",
    "\n",
    "### 3.1 Chargement et préparation de l'entrainement du modèle\n",
    "\n",
    "Nous allons ré-entrainer le même modèle 'priyabrat/new_bert_url_clasification' avec notre dataset.<br>\n",
    "\n",
    "\n",
    "Il faut d'abord charger le modèle avec le nombre de labels que nous voulons utiliser pour la classification.<br>\n",
    "Comme nous allons entrainer plusieurs fois notre modèle pour la recherche d'hyperparamètres, le modèle doit donc être réinitialisé à chaque nouvel entraînement.<br>\n",
    "C'est pourquoi nous définissons une fonction pour charger le modèle."
   ]
  },
  {
   "cell_type": "code",
   "execution_count": 14,
   "metadata": {},
   "outputs": [],
   "source": [
    "from transformers import AutoModelForSequenceClassification\n",
    "\n",
    "num_labels = 2 # legitimate et phishing\n",
    "\n",
    "def model_init():\n",
    "    return AutoModelForSequenceClassification.from_pretrained(model_checkpoint, num_labels=num_labels)"
   ]
  },
  {
   "attachments": {},
   "cell_type": "markdown",
   "metadata": {},
   "source": [
    "Nous allons ensuite instancier un Trainer. Il s'agit d'une classe de HuggingFace permettant d'optimiser l'entrainement de modèles Transformers. <br>\n",
    "Avant cela, nous devons définir les paramètres du modèle à l'aide de la classe TrainingArguments.<br>\n",
    "\n",
    "Pour l'instant, le choix des hyperparametres ne sont pas très importants car nous allons trouver les meilleurs pour nos données plus tard."
   ]
  },
  {
   "cell_type": "code",
   "execution_count": 15,
   "metadata": {},
   "outputs": [],
   "source": [
    "from transformers import  TrainingArguments\n",
    "\n",
    "args = TrainingArguments(\n",
    "    evaluation_strategy = \"epoch\",\n",
    "    save_strategy = \"epoch\",\n",
    "    learning_rate=2e-5,\n",
    "    per_device_train_batch_size=32,\n",
    "    per_device_eval_batch_size=32,\n",
    "    num_train_epochs=3,\n",
    "    weight_decay=0.01,\n",
    "    load_best_model_at_end=True,\n",
    "    metric_for_best_model='accuracy',\n",
    "    output_dir=\"test_trainer\"\n",
    ")"
   ]
  },
  {
   "attachments": {},
   "cell_type": "markdown",
   "metadata": {},
   "source": [
    "Il nous faut également une fonction qui calcule l'accuracy de nos prédictions."
   ]
  },
  {
   "cell_type": "code",
   "execution_count": 16,
   "metadata": {},
   "outputs": [],
   "source": [
    "import numpy as np\n",
    "import evaluate\n",
    "\n",
    "metric = evaluate.load(\"accuracy\")\n",
    "\n",
    "def compute_metrics(eval_pred):\n",
    "    predictions, labels = eval_pred\n",
    "    predictions = np.argmax(predictions, axis=-1)\n",
    "    return metric.compute(predictions=predictions, references=labels)"
   ]
  },
  {
   "attachments": {},
   "cell_type": "markdown",
   "metadata": {},
   "source": [
    "### 3.2 Recherche des meilleurs hyperparametres"
   ]
  },
  {
   "attachments": {},
   "cell_type": "markdown",
   "metadata": {},
   "source": [
    "Comme la recherche d'hyperparamètres est longue est demande beaucoup de ressources, nous l'appliquons sur une petite partie du jeu de données. "
   ]
  },
  {
   "cell_type": "code",
   "execution_count": 17,
   "metadata": {},
   "outputs": [
    {
     "data": {
      "text/plain": [
       "Dataset({\n",
       "    features: ['text', 'labels', '__index_level_0__', 'input_ids', 'token_type_ids', 'attention_mask'],\n",
       "    num_rows: 638\n",
       "})"
      ]
     },
     "execution_count": 17,
     "metadata": {},
     "output_type": "execute_result"
    }
   ],
   "source": [
    "train_dataset = encoded_dataset[\"train\"].shard(index=1, num_shards=10)\n",
    "train_dataset"
   ]
  },
  {
   "attachments": {},
   "cell_type": "markdown",
   "metadata": {},
   "source": [
    "Voici l'instance du Trainer."
   ]
  },
  {
   "cell_type": "code",
   "execution_count": 18,
   "metadata": {},
   "outputs": [],
   "source": [
    "from transformers import Trainer\n",
    "\n",
    "trainer = Trainer(\n",
    "    model_init=model_init,\n",
    "    args=args,\n",
    "    train_dataset=train_dataset,\n",
    "    eval_dataset=encoded_dataset[\"validation\"],\n",
    "    tokenizer=tokenizer,\n",
    "    compute_metrics=compute_metrics\n",
    ")"
   ]
  },
  {
   "attachments": {},
   "cell_type": "markdown",
   "metadata": {},
   "source": [
    "Nous definissons ensuite les limites des hyperparametres"
   ]
  },
  {
   "cell_type": "code",
   "execution_count": 19,
   "metadata": {},
   "outputs": [],
   "source": [
    "from optuna import trial\n",
    "\n",
    "def hyperparameter_space(trial):\n",
    "    return {\n",
    "        \"learning_rate\": trial.suggest_float(\"learning_rate\", 2e-5, 2e-2, log=True),\n",
    "        \"num_train_epochs\": trial.suggest_int(\"num_train_epochs\", 1, 5),\n",
    "        \"per_device_train_batch_size\": trial.suggest_categorical(\"per_device_train_batch_size\", [8, 16, 32]),\n",
    "    }"
   ]
  },
  {
   "attachments": {},
   "cell_type": "markdown",
   "metadata": {},
   "source": [
    "Nous allons maintenant effectuer 10 essaies notre recherche d'hyperparamètres. <br>"
   ]
  },
  {
   "cell_type": "code",
   "execution_count": 20,
   "metadata": {},
   "outputs": [
    {
     "name": "stderr",
     "output_type": "stream",
     "text": [
      "\u001b[32m[I 2023-04-15 22:45:05,258]\u001b[0m A new study created in memory with name: no-name-9c5c9e70-6c6f-4a58-9ac0-f4e28dacc827\u001b[0m\n",
      "c:\\Users\\ousma\\miniconda3\\envs\\streamlit-env\\lib\\site-packages\\transformers\\optimization.py:391: FutureWarning: This implementation of AdamW is deprecated and will be removed in a future version. Use the PyTorch implementation torch.optim.AdamW instead, or set `no_deprecation_warning=True` to disable this warning\n",
      "  warnings.warn(\n",
      "  0%|          | 0/160 [00:00<?, ?it/s]You're using a BertTokenizerFast tokenizer. Please note that with a fast tokenizer, using the `__call__` method is faster than using a method to encode the text followed by a call to the `pad` method to get a padded encoding.\n",
      "                                                \n",
      " 25%|██▌       | 40/160 [00:15<00:36,  3.33it/s]"
     ]
    },
    {
     "name": "stdout",
     "output_type": "stream",
     "text": [
      "{'eval_loss': 0.27732351422309875, 'eval_accuracy': 0.895774647887324, 'eval_runtime': 1.754, 'eval_samples_per_second': 202.394, 'eval_steps_per_second': 6.841, 'epoch': 1.0}\n"
     ]
    },
    {
     "name": "stderr",
     "output_type": "stream",
     "text": [
      "                                                \n",
      " 50%|█████     | 80/160 [00:37<00:26,  3.04it/s]"
     ]
    },
    {
     "name": "stdout",
     "output_type": "stream",
     "text": [
      "{'eval_loss': 0.37041714787483215, 'eval_accuracy': 0.8788732394366198, 'eval_runtime': 2.028, 'eval_samples_per_second': 175.053, 'eval_steps_per_second': 5.917, 'epoch': 2.0}\n"
     ]
    },
    {
     "name": "stderr",
     "output_type": "stream",
     "text": [
      "                                                 \n",
      " 75%|███████▌  | 120/160 [01:06<00:14,  2.75it/s]"
     ]
    },
    {
     "name": "stdout",
     "output_type": "stream",
     "text": [
      "{'eval_loss': 0.41847044229507446, 'eval_accuracy': 0.895774647887324, 'eval_runtime': 2.0331, 'eval_samples_per_second': 174.612, 'eval_steps_per_second': 5.902, 'epoch': 3.0}\n"
     ]
    },
    {
     "name": "stderr",
     "output_type": "stream",
     "text": [
      "                                                 \n",
      "100%|██████████| 160/160 [01:32<00:00,  2.88it/s]"
     ]
    },
    {
     "name": "stdout",
     "output_type": "stream",
     "text": [
      "{'eval_loss': 0.46645328402519226, 'eval_accuracy': 0.8873239436619719, 'eval_runtime': 2.279, 'eval_samples_per_second': 155.767, 'eval_steps_per_second': 5.265, 'epoch': 4.0}\n"
     ]
    },
    {
     "name": "stderr",
     "output_type": "stream",
     "text": [
      "100%|██████████| 160/160 [01:44<00:00,  2.88it/s]"
     ]
    },
    {
     "name": "stdout",
     "output_type": "stream",
     "text": [
      "{'train_runtime': 104.2781, 'train_samples_per_second': 24.473, 'train_steps_per_second': 1.534, 'train_loss': 0.20957043170928955, 'epoch': 4.0}\n"
     ]
    },
    {
     "name": "stderr",
     "output_type": "stream",
     "text": [
      "100%|██████████| 160/160 [01:45<00:00,  1.52it/s]\n",
      "\u001b[32m[I 2023-04-15 22:46:53,950]\u001b[0m Trial 0 finished with value: 0.8873239436619719 and parameters: {'learning_rate': 7.242936983983539e-05, 'num_train_epochs': 4, 'per_device_train_batch_size': 16}. Best is trial 0 with value: 0.8873239436619719.\u001b[0m\n",
      "c:\\Users\\ousma\\miniconda3\\envs\\streamlit-env\\lib\\site-packages\\transformers\\optimization.py:391: FutureWarning: This implementation of AdamW is deprecated and will be removed in a future version. Use the PyTorch implementation torch.optim.AdamW instead, or set `no_deprecation_warning=True` to disable this warning\n",
      "  warnings.warn(\n",
      " 20%|██        | 20/100 [00:12<00:51,  1.56it/s]\n",
      " 20%|██        | 20/100 [00:15<00:51,  1.56it/s]"
     ]
    },
    {
     "name": "stdout",
     "output_type": "stream",
     "text": [
      "{'eval_loss': 0.7099958658218384, 'eval_accuracy': 0.523943661971831, 'eval_runtime': 2.133, 'eval_samples_per_second': 166.432, 'eval_steps_per_second': 5.626, 'epoch': 1.0}\n"
     ]
    },
    {
     "name": "stderr",
     "output_type": "stream",
     "text": [
      " 40%|████      | 40/100 [00:41<00:37,  1.59it/s]\n",
      " 40%|████      | 40/100 [00:43<00:37,  1.59it/s]"
     ]
    },
    {
     "name": "stdout",
     "output_type": "stream",
     "text": [
      "{'eval_loss': 0.695316731929779, 'eval_accuracy': 0.523943661971831, 'eval_runtime': 2.1038, 'eval_samples_per_second': 168.745, 'eval_steps_per_second': 5.704, 'epoch': 2.0}\n"
     ]
    },
    {
     "name": "stderr",
     "output_type": "stream",
     "text": [
      " 60%|██████    | 60/100 [01:07<00:23,  1.69it/s]\n",
      " 60%|██████    | 60/100 [01:09<00:23,  1.69it/s]"
     ]
    },
    {
     "name": "stdout",
     "output_type": "stream",
     "text": [
      "{'eval_loss': 0.6998288631439209, 'eval_accuracy': 0.476056338028169, 'eval_runtime': 2.127, 'eval_samples_per_second': 166.902, 'eval_steps_per_second': 5.642, 'epoch': 3.0}\n"
     ]
    },
    {
     "name": "stderr",
     "output_type": "stream",
     "text": [
      " 80%|████████  | 80/100 [01:33<00:11,  1.72it/s]\n",
      " 80%|████████  | 80/100 [01:35<00:11,  1.72it/s]"
     ]
    },
    {
     "name": "stdout",
     "output_type": "stream",
     "text": [
      "{'eval_loss': 0.6925010681152344, 'eval_accuracy': 0.523943661971831, 'eval_runtime': 2.175, 'eval_samples_per_second': 163.218, 'eval_steps_per_second': 5.517, 'epoch': 4.0}\n"
     ]
    },
    {
     "name": "stderr",
     "output_type": "stream",
     "text": [
      "100%|██████████| 100/100 [02:00<00:00,  1.51it/s]\n",
      "100%|██████████| 100/100 [02:03<00:00,  1.51it/s]"
     ]
    },
    {
     "name": "stdout",
     "output_type": "stream",
     "text": [
      "{'eval_loss': 0.6924797892570496, 'eval_accuracy': 0.523943661971831, 'eval_runtime': 2.527, 'eval_samples_per_second': 140.483, 'eval_steps_per_second': 4.749, 'epoch': 5.0}\n"
     ]
    },
    {
     "name": "stderr",
     "output_type": "stream",
     "text": [
      "100%|██████████| 100/100 [02:19<00:00,  1.51it/s]"
     ]
    },
    {
     "name": "stdout",
     "output_type": "stream",
     "text": [
      "{'train_runtime': 140.9386, 'train_samples_per_second': 22.634, 'train_steps_per_second': 0.71, 'train_loss': 0.7835408782958985, 'epoch': 5.0}\n"
     ]
    },
    {
     "name": "stderr",
     "output_type": "stream",
     "text": [
      "100%|██████████| 100/100 [02:19<00:00,  1.40s/it]\n",
      "\u001b[32m[I 2023-04-15 22:49:17,051]\u001b[0m Trial 1 finished with value: 0.523943661971831 and parameters: {'learning_rate': 0.0015956138904359856, 'num_train_epochs': 5, 'per_device_train_batch_size': 32}. Best is trial 0 with value: 0.8873239436619719.\u001b[0m\n",
      "c:\\Users\\ousma\\miniconda3\\envs\\streamlit-env\\lib\\site-packages\\transformers\\optimization.py:391: FutureWarning: This implementation of AdamW is deprecated and will be removed in a future version. Use the PyTorch implementation torch.optim.AdamW instead, or set `no_deprecation_warning=True` to disable this warning\n",
      "  warnings.warn(\n",
      "                                               \n",
      " 25%|██▌       | 20/80 [00:14<00:36,  1.63it/s]"
     ]
    },
    {
     "name": "stdout",
     "output_type": "stream",
     "text": [
      "{'eval_loss': 0.753790557384491, 'eval_accuracy': 0.523943661971831, 'eval_runtime': 2.355, 'eval_samples_per_second': 150.743, 'eval_steps_per_second': 5.096, 'epoch': 1.0}\n"
     ]
    },
    {
     "name": "stderr",
     "output_type": "stream",
     "text": [
      "                                               \n",
      " 50%|█████     | 40/80 [00:40<00:25,  1.59it/s]"
     ]
    },
    {
     "name": "stdout",
     "output_type": "stream",
     "text": [
      "{'eval_loss': 0.69716876745224, 'eval_accuracy': 0.523943661971831, 'eval_runtime': 2.215, 'eval_samples_per_second': 160.273, 'eval_steps_per_second': 5.418, 'epoch': 2.0}\n"
     ]
    },
    {
     "name": "stderr",
     "output_type": "stream",
     "text": [
      "                                               \n",
      " 75%|███████▌  | 60/80 [01:08<00:11,  1.69it/s]"
     ]
    },
    {
     "name": "stdout",
     "output_type": "stream",
     "text": [
      "{'eval_loss': 0.692206859588623, 'eval_accuracy': 0.523943661971831, 'eval_runtime': 2.8619, 'eval_samples_per_second': 124.042, 'eval_steps_per_second': 4.193, 'epoch': 3.0}\n"
     ]
    },
    {
     "name": "stderr",
     "output_type": "stream",
     "text": [
      "                                               \n",
      "100%|██████████| 80/80 [01:35<00:00,  1.37it/s]"
     ]
    },
    {
     "name": "stdout",
     "output_type": "stream",
     "text": [
      "{'eval_loss': 0.6921840906143188, 'eval_accuracy': 0.523943661971831, 'eval_runtime': 2.2473, 'eval_samples_per_second': 157.966, 'eval_steps_per_second': 5.34, 'epoch': 4.0}\n"
     ]
    },
    {
     "name": "stderr",
     "output_type": "stream",
     "text": [
      "100%|██████████| 80/80 [01:47<00:00,  1.37it/s]"
     ]
    },
    {
     "name": "stdout",
     "output_type": "stream",
     "text": [
      "{'train_runtime': 108.8559, 'train_samples_per_second': 23.444, 'train_steps_per_second': 0.735, 'train_loss': 0.8247064590454102, 'epoch': 4.0}\n"
     ]
    },
    {
     "name": "stderr",
     "output_type": "stream",
     "text": [
      "100%|██████████| 80/80 [01:48<00:00,  1.35s/it]\n",
      "\u001b[32m[I 2023-04-15 22:51:09,243]\u001b[0m Trial 2 finished with value: 0.523943661971831 and parameters: {'learning_rate': 0.0036525823135063838, 'num_train_epochs': 4, 'per_device_train_batch_size': 32}. Best is trial 0 with value: 0.8873239436619719.\u001b[0m\n",
      "c:\\Users\\ousma\\miniconda3\\envs\\streamlit-env\\lib\\site-packages\\transformers\\optimization.py:391: FutureWarning: This implementation of AdamW is deprecated and will be removed in a future version. Use the PyTorch implementation torch.optim.AdamW instead, or set `no_deprecation_warning=True` to disable this warning\n",
      "  warnings.warn(\n",
      " 33%|███▎      | 40/120 [00:15<00:29,  2.68it/s]\n",
      " 33%|███▎      | 40/120 [00:17<00:29,  2.68it/s]"
     ]
    },
    {
     "name": "stdout",
     "output_type": "stream",
     "text": [
      "{'eval_loss': 0.31226441264152527, 'eval_accuracy': 0.8760563380281691, 'eval_runtime': 2.6639, 'eval_samples_per_second': 133.262, 'eval_steps_per_second': 4.505, 'epoch': 1.0}\n"
     ]
    },
    {
     "name": "stderr",
     "output_type": "stream",
     "text": [
      " 67%|██████▋   | 80/120 [00:42<00:14,  2.70it/s]\n",
      " 67%|██████▋   | 80/120 [00:45<00:14,  2.70it/s]"
     ]
    },
    {
     "name": "stdout",
     "output_type": "stream",
     "text": [
      "{'eval_loss': 0.31699198484420776, 'eval_accuracy': 0.895774647887324, 'eval_runtime': 2.8455, 'eval_samples_per_second': 124.757, 'eval_steps_per_second': 4.217, 'epoch': 2.0}\n"
     ]
    },
    {
     "name": "stderr",
     "output_type": "stream",
     "text": [
      "100%|██████████| 120/120 [01:12<00:00,  2.56it/s]\n",
      "100%|██████████| 120/120 [01:14<00:00,  2.56it/s]"
     ]
    },
    {
     "name": "stdout",
     "output_type": "stream",
     "text": [
      "{'eval_loss': 0.3001350164413452, 'eval_accuracy': 0.9183098591549296, 'eval_runtime': 2.3801, 'eval_samples_per_second': 149.155, 'eval_steps_per_second': 5.042, 'epoch': 3.0}\n"
     ]
    },
    {
     "name": "stderr",
     "output_type": "stream",
     "text": [
      "100%|██████████| 120/120 [01:25<00:00,  2.56it/s]"
     ]
    },
    {
     "name": "stdout",
     "output_type": "stream",
     "text": [
      "{'train_runtime': 86.6639, 'train_samples_per_second': 22.085, 'train_steps_per_second': 1.385, 'train_loss': 0.32428051630655924, 'epoch': 3.0}\n"
     ]
    },
    {
     "name": "stderr",
     "output_type": "stream",
     "text": [
      "100%|██████████| 120/120 [01:25<00:00,  1.40it/s]\n",
      "\u001b[32m[I 2023-04-15 22:52:38,267]\u001b[0m Trial 3 finished with value: 0.9183098591549296 and parameters: {'learning_rate': 0.0001090622037256774, 'num_train_epochs': 3, 'per_device_train_batch_size': 16}. Best is trial 3 with value: 0.9183098591549296.\u001b[0m\n",
      "c:\\Users\\ousma\\miniconda3\\envs\\streamlit-env\\lib\\site-packages\\transformers\\optimization.py:391: FutureWarning: This implementation of AdamW is deprecated and will be removed in a future version. Use the PyTorch implementation torch.optim.AdamW instead, or set `no_deprecation_warning=True` to disable this warning\n",
      "  warnings.warn(\n",
      " 20%|██        | 40/200 [00:17<01:11,  2.24it/s]\n",
      " 20%|██        | 40/200 [00:19<01:11,  2.24it/s]"
     ]
    },
    {
     "name": "stdout",
     "output_type": "stream",
     "text": [
      "{'eval_loss': 0.3317747414112091, 'eval_accuracy': 0.8760563380281691, 'eval_runtime': 2.645, 'eval_samples_per_second': 134.216, 'eval_steps_per_second': 4.537, 'epoch': 1.0}\n"
     ]
    },
    {
     "name": "stderr",
     "output_type": "stream",
     "text": [
      " 40%|████      | 80/200 [00:47<00:52,  2.27it/s]\n",
      " 40%|████      | 80/200 [00:50<00:52,  2.27it/s]"
     ]
    },
    {
     "name": "stdout",
     "output_type": "stream",
     "text": [
      "{'eval_loss': 0.3828962445259094, 'eval_accuracy': 0.8901408450704226, 'eval_runtime': 2.481, 'eval_samples_per_second': 143.09, 'eval_steps_per_second': 4.837, 'epoch': 2.0}\n"
     ]
    },
    {
     "name": "stderr",
     "output_type": "stream",
     "text": [
      " 60%|██████    | 120/200 [01:17<00:31,  2.51it/s]\n",
      " 60%|██████    | 120/200 [01:20<00:31,  2.51it/s]"
     ]
    },
    {
     "name": "stdout",
     "output_type": "stream",
     "text": [
      "{'eval_loss': 0.4256536066532135, 'eval_accuracy': 0.8929577464788733, 'eval_runtime': 2.955, 'eval_samples_per_second': 120.136, 'eval_steps_per_second': 4.061, 'epoch': 3.0}\n"
     ]
    },
    {
     "name": "stderr",
     "output_type": "stream",
     "text": [
      " 80%|████████  | 160/200 [01:47<00:17,  2.24it/s]\n",
      " 80%|████████  | 160/200 [01:50<00:17,  2.24it/s]"
     ]
    },
    {
     "name": "stdout",
     "output_type": "stream",
     "text": [
      "{'eval_loss': 0.45226699113845825, 'eval_accuracy': 0.895774647887324, 'eval_runtime': 2.843, 'eval_samples_per_second': 124.868, 'eval_steps_per_second': 4.221, 'epoch': 4.0}\n"
     ]
    },
    {
     "name": "stderr",
     "output_type": "stream",
     "text": [
      "100%|██████████| 200/200 [02:20<00:00,  2.29it/s]\n",
      "100%|██████████| 200/200 [02:23<00:00,  2.29it/s]"
     ]
    },
    {
     "name": "stdout",
     "output_type": "stream",
     "text": [
      "{'eval_loss': 0.4899830222129822, 'eval_accuracy': 0.8929577464788733, 'eval_runtime': 2.63, 'eval_samples_per_second': 134.981, 'eval_steps_per_second': 4.563, 'epoch': 5.0}\n"
     ]
    },
    {
     "name": "stderr",
     "output_type": "stream",
     "text": [
      "100%|██████████| 200/200 [02:33<00:00,  2.29it/s]"
     ]
    },
    {
     "name": "stdout",
     "output_type": "stream",
     "text": [
      "{'train_runtime': 154.6423, 'train_samples_per_second': 20.628, 'train_steps_per_second': 1.293, 'train_loss': 0.21303890228271485, 'epoch': 5.0}\n"
     ]
    },
    {
     "name": "stderr",
     "output_type": "stream",
     "text": [
      "100%|██████████| 200/200 [02:34<00:00,  1.29it/s]\n",
      "\u001b[32m[I 2023-04-15 22:55:15,409]\u001b[0m Trial 4 finished with value: 0.8929577464788733 and parameters: {'learning_rate': 6.330844311556136e-05, 'num_train_epochs': 5, 'per_device_train_batch_size': 16}. Best is trial 3 with value: 0.9183098591549296.\u001b[0m\n",
      "c:\\Users\\ousma\\miniconda3\\envs\\streamlit-env\\lib\\site-packages\\transformers\\optimization.py:391: FutureWarning: This implementation of AdamW is deprecated and will be removed in a future version. Use the PyTorch implementation torch.optim.AdamW instead, or set `no_deprecation_warning=True` to disable this warning\n",
      "  warnings.warn(\n",
      "100%|██████████| 40/40 [00:18<00:00,  2.06it/s]\n",
      "100%|██████████| 40/40 [00:21<00:00,  1.86it/s]\n",
      "\u001b[32m[I 2023-04-15 22:55:41,150]\u001b[0m Trial 5 pruned. \u001b[0m\n"
     ]
    },
    {
     "name": "stdout",
     "output_type": "stream",
     "text": [
      "{'eval_loss': 0.6946999430656433, 'eval_accuracy': 0.476056338028169, 'eval_runtime': 3.431, 'eval_samples_per_second': 103.468, 'eval_steps_per_second': 3.498, 'epoch': 1.0}\n"
     ]
    },
    {
     "name": "stderr",
     "output_type": "stream",
     "text": [
      "c:\\Users\\ousma\\miniconda3\\envs\\streamlit-env\\lib\\site-packages\\transformers\\optimization.py:391: FutureWarning: This implementation of AdamW is deprecated and will be removed in a future version. Use the PyTorch implementation torch.optim.AdamW instead, or set `no_deprecation_warning=True` to disable this warning\n",
      "  warnings.warn(\n",
      " 33%|███▎      | 20/60 [00:21<00:38,  1.03it/s]\n",
      " 33%|███▎      | 20/60 [00:25<00:38,  1.03it/s]"
     ]
    },
    {
     "name": "stdout",
     "output_type": "stream",
     "text": [
      "{'eval_loss': 0.7880554795265198, 'eval_accuracy': 0.523943661971831, 'eval_runtime': 4.109, 'eval_samples_per_second': 86.396, 'eval_steps_per_second': 2.92, 'epoch': 1.0}\n"
     ]
    },
    {
     "name": "stderr",
     "output_type": "stream",
     "text": [
      " 67%|██████▋   | 40/60 [00:50<00:17,  1.12it/s]\n",
      " 67%|██████▋   | 40/60 [00:53<00:26,  1.33s/it]\n",
      "\u001b[32m[I 2023-04-15 22:56:35,878]\u001b[0m Trial 6 pruned. \u001b[0m\n"
     ]
    },
    {
     "name": "stdout",
     "output_type": "stream",
     "text": [
      "{'eval_loss': 0.6952977180480957, 'eval_accuracy': 0.523943661971831, 'eval_runtime': 2.9804, 'eval_samples_per_second': 119.11, 'eval_steps_per_second': 4.026, 'epoch': 2.0}\n"
     ]
    },
    {
     "name": "stderr",
     "output_type": "stream",
     "text": [
      "c:\\Users\\ousma\\miniconda3\\envs\\streamlit-env\\lib\\site-packages\\transformers\\optimization.py:391: FutureWarning: This implementation of AdamW is deprecated and will be removed in a future version. Use the PyTorch implementation torch.optim.AdamW instead, or set `no_deprecation_warning=True` to disable this warning\n",
      "  warnings.warn(\n",
      " 25%|██▌       | 20/80 [00:18<00:52,  1.14it/s]\n",
      " 25%|██▌       | 20/80 [00:22<01:07,  1.12s/it]\n",
      "\u001b[32m[I 2023-04-15 22:57:00,333]\u001b[0m Trial 7 pruned. \u001b[0m\n"
     ]
    },
    {
     "name": "stdout",
     "output_type": "stream",
     "text": [
      "{'eval_loss': 0.6950702667236328, 'eval_accuracy': 0.476056338028169, 'eval_runtime': 3.875, 'eval_samples_per_second': 91.612, 'eval_steps_per_second': 3.097, 'epoch': 1.0}\n"
     ]
    },
    {
     "name": "stderr",
     "output_type": "stream",
     "text": [
      "c:\\Users\\ousma\\miniconda3\\envs\\streamlit-env\\lib\\site-packages\\transformers\\optimization.py:391: FutureWarning: This implementation of AdamW is deprecated and will be removed in a future version. Use the PyTorch implementation torch.optim.AdamW instead, or set `no_deprecation_warning=True` to disable this warning\n",
      "  warnings.warn(\n",
      " 50%|█████     | 80/160 [00:23<00:21,  3.69it/s]\n",
      " 50%|█████     | 80/160 [00:26<00:26,  2.99it/s]\n",
      "\u001b[32m[I 2023-04-15 22:57:28,832]\u001b[0m Trial 8 pruned. \u001b[0m\n"
     ]
    },
    {
     "name": "stdout",
     "output_type": "stream",
     "text": [
      "{'eval_loss': 0.6934789419174194, 'eval_accuracy': 0.523943661971831, 'eval_runtime': 2.695, 'eval_samples_per_second': 131.725, 'eval_steps_per_second': 4.453, 'epoch': 1.0}\n"
     ]
    },
    {
     "name": "stderr",
     "output_type": "stream",
     "text": [
      "c:\\Users\\ousma\\miniconda3\\envs\\streamlit-env\\lib\\site-packages\\transformers\\optimization.py:391: FutureWarning: This implementation of AdamW is deprecated and will be removed in a future version. Use the PyTorch implementation torch.optim.AdamW instead, or set `no_deprecation_warning=True` to disable this warning\n",
      "  warnings.warn(\n",
      " 20%|██        | 40/200 [00:17<01:05,  2.45it/s]\n",
      " 20%|██        | 40/200 [00:20<01:21,  1.95it/s]\n",
      "\u001b[32m[I 2023-04-15 22:57:50,912]\u001b[0m Trial 9 pruned. \u001b[0m\n"
     ]
    },
    {
     "name": "stdout",
     "output_type": "stream",
     "text": [
      "{'eval_loss': 1.0509955883026123, 'eval_accuracy': 0.523943661971831, 'eval_runtime': 2.991, 'eval_samples_per_second': 118.69, 'eval_steps_per_second': 4.012, 'epoch': 1.0}\n"
     ]
    }
   ],
   "source": [
    "best_run = trainer.hyperparameter_search(n_trials=10, direction=\"maximize\", hp_space=hyperparameter_space)"
   ]
  },
  {
   "attachments": {},
   "cell_type": "markdown",
   "metadata": {},
   "source": [
    "Voici les meilleurs hyperparamètres :"
   ]
  },
  {
   "cell_type": "code",
   "execution_count": 21,
   "metadata": {},
   "outputs": [
    {
     "name": "stdout",
     "output_type": "stream",
     "text": [
      "BestRun(run_id='3', objective=0.9183098591549296, hyperparameters={'learning_rate': 0.0001090622037256774, 'num_train_epochs': 3, 'per_device_train_batch_size': 16}, run_summary=None)\n"
     ]
    }
   ],
   "source": [
    "print(best_run)"
   ]
  },
  {
   "attachments": {},
   "cell_type": "markdown",
   "metadata": {},
   "source": [
    "### 3.3 Ajustement du modèle à nos données (Fine-tuning)\n",
    "\n",
    "Nous pouvons maintenant entrainer notre modèle avec les meilleurs paramètres"
   ]
  },
  {
   "cell_type": "code",
   "execution_count": 22,
   "metadata": {},
   "outputs": [
    {
     "name": "stderr",
     "output_type": "stream",
     "text": [
      "c:\\Users\\ousma\\miniconda3\\envs\\streamlit-env\\lib\\site-packages\\transformers\\optimization.py:391: FutureWarning: This implementation of AdamW is deprecated and will be removed in a future version. Use the PyTorch implementation torch.optim.AdamW instead, or set `no_deprecation_warning=True` to disable this warning\n",
      "  warnings.warn(\n",
      " 33%|███▎      | 399/1197 [03:15<04:59,  2.66it/s]\n",
      " 33%|███▎      | 399/1197 [03:19<04:59,  2.66it/s]"
     ]
    },
    {
     "name": "stdout",
     "output_type": "stream",
     "text": [
      "{'eval_loss': 0.3361622989177704, 'eval_accuracy': 0.9011299435028248, 'eval_runtime': 3.6118, 'eval_samples_per_second': 98.012, 'eval_steps_per_second': 6.368, 'epoch': 1.0}\n"
     ]
    },
    {
     "name": "stderr",
     "output_type": "stream",
     "text": [
      " 42%|████▏     | 500/1197 [04:12<05:16,  2.20it/s]"
     ]
    },
    {
     "name": "stdout",
     "output_type": "stream",
     "text": [
      "{'loss': 0.3418, 'learning_rate': 6.350572764978877e-05, 'epoch': 1.25}\n"
     ]
    },
    {
     "name": "stderr",
     "output_type": "stream",
     "text": [
      " 67%|██████▋   | 798/1197 [06:43<02:38,  2.52it/s]\n",
      " 67%|██████▋   | 798/1197 [06:46<02:38,  2.52it/s]"
     ]
    },
    {
     "name": "stdout",
     "output_type": "stream",
     "text": [
      "{'eval_loss': 0.2935185730457306, 'eval_accuracy': 0.9180790960451978, 'eval_runtime': 3.0165, 'eval_samples_per_second': 117.354, 'eval_steps_per_second': 7.625, 'epoch': 2.0}\n"
     ]
    },
    {
     "name": "stderr",
     "output_type": "stream",
     "text": [
      " 84%|████████▎ | 1000/1197 [08:22<01:44,  1.88it/s]"
     ]
    },
    {
     "name": "stdout",
     "output_type": "stream",
     "text": [
      "{'loss': 0.195, 'learning_rate': 1.7949251573900123e-05, 'epoch': 2.51}\n"
     ]
    },
    {
     "name": "stderr",
     "output_type": "stream",
     "text": [
      "100%|██████████| 1197/1197 [09:57<00:00,  2.74it/s]\n",
      "100%|██████████| 1197/1197 [10:01<00:00,  2.74it/s]"
     ]
    },
    {
     "name": "stdout",
     "output_type": "stream",
     "text": [
      "{'eval_loss': 0.31337815523147583, 'eval_accuracy': 0.9209039548022598, 'eval_runtime': 3.2894, 'eval_samples_per_second': 107.617, 'eval_steps_per_second': 6.992, 'epoch': 3.0}\n"
     ]
    },
    {
     "name": "stderr",
     "output_type": "stream",
     "text": [
      "100%|██████████| 1197/1197 [10:08<00:00,  1.97it/s]"
     ]
    },
    {
     "name": "stdout",
     "output_type": "stream",
     "text": [
      "{'train_runtime': 609.1159, 'train_samples_per_second': 31.408, 'train_steps_per_second': 1.965, 'train_loss': 0.24814418324253015, 'epoch': 3.0}\n"
     ]
    },
    {
     "name": "stderr",
     "output_type": "stream",
     "text": [
      "\n"
     ]
    },
    {
     "data": {
      "text/plain": [
       "TrainOutput(global_step=1197, training_loss=0.24814418324253015, metrics={'train_runtime': 609.1159, 'train_samples_per_second': 31.408, 'train_steps_per_second': 1.965, 'train_loss': 0.24814418324253015, 'epoch': 3.0})"
      ]
     },
     "execution_count": 22,
     "metadata": {},
     "output_type": "execute_result"
    }
   ],
   "source": [
    "args = TrainingArguments(\n",
    "    evaluation_strategy = \"epoch\",\n",
    "    save_strategy = \"epoch\",\n",
    "    learning_rate = best_run.hyperparameters['learning_rate'],\n",
    "    per_device_train_batch_size = best_run.hyperparameters['per_device_train_batch_size'],\n",
    "    per_device_eval_batch_size = best_run.hyperparameters['per_device_train_batch_size'],\n",
    "    num_train_epochs= best_run.hyperparameters['num_train_epochs'],\n",
    "    weight_decay=0.01,\n",
    "    load_best_model_at_end=True,\n",
    "    metric_for_best_model='accuracy',\n",
    "    output_dir=\"test_trainer\"\n",
    ")\n",
    "\n",
    "trainer = Trainer(\n",
    "    model_init=model_init,\n",
    "    args=args,\n",
    "    train_dataset=encoded_dataset[\"train\"],\n",
    "    eval_dataset=encoded_dataset[\"test\"],\n",
    "    tokenizer=tokenizer,\n",
    "    compute_metrics=compute_metrics\n",
    ")\n",
    "\n",
    "trainer.train()"
   ]
  },
  {
   "attachments": {},
   "cell_type": "markdown",
   "metadata": {},
   "source": [
    "Nous obtenons un score d'accuracy  de 0.92 sur notre entraitement de test."
   ]
  },
  {
   "attachments": {},
   "cell_type": "markdown",
   "metadata": {},
   "source": [
    "## 4. Prédictions"
   ]
  },
  {
   "attachments": {},
   "cell_type": "markdown",
   "metadata": {},
   "source": [
    "Enfin, nous pouvons tester notre modèle avec le dataset de test."
   ]
  },
  {
   "attachments": {},
   "cell_type": "markdown",
   "metadata": {},
   "source": [
    "### 4.1 Charger le jeu de test"
   ]
  },
  {
   "cell_type": "code",
   "execution_count": 23,
   "metadata": {},
   "outputs": [
    {
     "data": {
      "text/html": [
       "<div>\n",
       "<style scoped>\n",
       "    .dataframe tbody tr th:only-of-type {\n",
       "        vertical-align: middle;\n",
       "    }\n",
       "\n",
       "    .dataframe tbody tr th {\n",
       "        vertical-align: top;\n",
       "    }\n",
       "\n",
       "    .dataframe thead th {\n",
       "        text-align: right;\n",
       "    }\n",
       "</style>\n",
       "<table border=\"1\" class=\"dataframe\">\n",
       "  <thead>\n",
       "    <tr style=\"text-align: right;\">\n",
       "      <th></th>\n",
       "      <th>Unnamed: 0</th>\n",
       "      <th>url</th>\n",
       "      <th>length_url</th>\n",
       "      <th>length_hostname</th>\n",
       "      <th>ip</th>\n",
       "      <th>nb_dots</th>\n",
       "      <th>nb_hyphens</th>\n",
       "      <th>nb_at</th>\n",
       "      <th>nb_qm</th>\n",
       "      <th>nb_and</th>\n",
       "      <th>...</th>\n",
       "      <th>empty_title</th>\n",
       "      <th>domain_in_title</th>\n",
       "      <th>domain_with_copyright</th>\n",
       "      <th>whois_registered_domain</th>\n",
       "      <th>domain_registration_length</th>\n",
       "      <th>domain_age</th>\n",
       "      <th>web_traffic</th>\n",
       "      <th>dns_record</th>\n",
       "      <th>google_index</th>\n",
       "      <th>page_rank</th>\n",
       "    </tr>\n",
       "  </thead>\n",
       "  <tbody>\n",
       "    <tr>\n",
       "      <th>0</th>\n",
       "      <td>0</td>\n",
       "      <td>http://kinstationery.com/4tr/?email=nobody@myc...</td>\n",
       "      <td>58</td>\n",
       "      <td>17</td>\n",
       "      <td>0</td>\n",
       "      <td>2</td>\n",
       "      <td>0</td>\n",
       "      <td>1</td>\n",
       "      <td>1</td>\n",
       "      <td>0</td>\n",
       "      <td>...</td>\n",
       "      <td>0</td>\n",
       "      <td>1</td>\n",
       "      <td>0</td>\n",
       "      <td>0</td>\n",
       "      <td>222</td>\n",
       "      <td>-1</td>\n",
       "      <td>0</td>\n",
       "      <td>0</td>\n",
       "      <td>1</td>\n",
       "      <td>1</td>\n",
       "    </tr>\n",
       "    <tr>\n",
       "      <th>1</th>\n",
       "      <td>1</td>\n",
       "      <td>https://www.granhongo.com/wp-includes/Login/cu...</td>\n",
       "      <td>114</td>\n",
       "      <td>17</td>\n",
       "      <td>0</td>\n",
       "      <td>2</td>\n",
       "      <td>2</td>\n",
       "      <td>0</td>\n",
       "      <td>1</td>\n",
       "      <td>0</td>\n",
       "      <td>...</td>\n",
       "      <td>0</td>\n",
       "      <td>1</td>\n",
       "      <td>1</td>\n",
       "      <td>0</td>\n",
       "      <td>221</td>\n",
       "      <td>3065</td>\n",
       "      <td>0</td>\n",
       "      <td>0</td>\n",
       "      <td>1</td>\n",
       "      <td>2</td>\n",
       "    </tr>\n",
       "    <tr>\n",
       "      <th>2</th>\n",
       "      <td>2</td>\n",
       "      <td>http://j.gs/Cpjh</td>\n",
       "      <td>16</td>\n",
       "      <td>4</td>\n",
       "      <td>0</td>\n",
       "      <td>1</td>\n",
       "      <td>0</td>\n",
       "      <td>0</td>\n",
       "      <td>0</td>\n",
       "      <td>0</td>\n",
       "      <td>...</td>\n",
       "      <td>0</td>\n",
       "      <td>1</td>\n",
       "      <td>0</td>\n",
       "      <td>0</td>\n",
       "      <td>207</td>\n",
       "      <td>-1</td>\n",
       "      <td>1590047</td>\n",
       "      <td>0</td>\n",
       "      <td>1</td>\n",
       "      <td>6</td>\n",
       "    </tr>\n",
       "    <tr>\n",
       "      <th>3</th>\n",
       "      <td>3</td>\n",
       "      <td>http://www.learnpunjabi.org/pdf/gslehal-pap18.pdf</td>\n",
       "      <td>49</td>\n",
       "      <td>20</td>\n",
       "      <td>0</td>\n",
       "      <td>3</td>\n",
       "      <td>1</td>\n",
       "      <td>0</td>\n",
       "      <td>0</td>\n",
       "      <td>0</td>\n",
       "      <td>...</td>\n",
       "      <td>1</td>\n",
       "      <td>1</td>\n",
       "      <td>1</td>\n",
       "      <td>0</td>\n",
       "      <td>406</td>\n",
       "      <td>5073</td>\n",
       "      <td>287661</td>\n",
       "      <td>0</td>\n",
       "      <td>1</td>\n",
       "      <td>5</td>\n",
       "    </tr>\n",
       "    <tr>\n",
       "      <th>4</th>\n",
       "      <td>4</td>\n",
       "      <td>http://42vital.pl/cache/cache/navy/navyfederal/</td>\n",
       "      <td>47</td>\n",
       "      <td>10</td>\n",
       "      <td>0</td>\n",
       "      <td>1</td>\n",
       "      <td>0</td>\n",
       "      <td>0</td>\n",
       "      <td>0</td>\n",
       "      <td>0</td>\n",
       "      <td>...</td>\n",
       "      <td>1</td>\n",
       "      <td>1</td>\n",
       "      <td>0</td>\n",
       "      <td>0</td>\n",
       "      <td>93</td>\n",
       "      <td>2098</td>\n",
       "      <td>0</td>\n",
       "      <td>0</td>\n",
       "      <td>1</td>\n",
       "      <td>2</td>\n",
       "    </tr>\n",
       "    <tr>\n",
       "      <th>...</th>\n",
       "      <td>...</td>\n",
       "      <td>...</td>\n",
       "      <td>...</td>\n",
       "      <td>...</td>\n",
       "      <td>...</td>\n",
       "      <td>...</td>\n",
       "      <td>...</td>\n",
       "      <td>...</td>\n",
       "      <td>...</td>\n",
       "      <td>...</td>\n",
       "      <td>...</td>\n",
       "      <td>...</td>\n",
       "      <td>...</td>\n",
       "      <td>...</td>\n",
       "      <td>...</td>\n",
       "      <td>...</td>\n",
       "      <td>...</td>\n",
       "      <td>...</td>\n",
       "      <td>...</td>\n",
       "      <td>...</td>\n",
       "      <td>...</td>\n",
       "    </tr>\n",
       "    <tr>\n",
       "      <th>3253</th>\n",
       "      <td>3253</td>\n",
       "      <td>http://unitus.mk.ua/sites/default/files/ctools...</td>\n",
       "      <td>110</td>\n",
       "      <td>12</td>\n",
       "      <td>0</td>\n",
       "      <td>3</td>\n",
       "      <td>1</td>\n",
       "      <td>0</td>\n",
       "      <td>0</td>\n",
       "      <td>0</td>\n",
       "      <td>...</td>\n",
       "      <td>0</td>\n",
       "      <td>1</td>\n",
       "      <td>1</td>\n",
       "      <td>0</td>\n",
       "      <td>208</td>\n",
       "      <td>3080</td>\n",
       "      <td>0</td>\n",
       "      <td>0</td>\n",
       "      <td>1</td>\n",
       "      <td>2</td>\n",
       "    </tr>\n",
       "    <tr>\n",
       "      <th>3254</th>\n",
       "      <td>3254</td>\n",
       "      <td>http://vps-a155c406.vps.ovh.net/</td>\n",
       "      <td>32</td>\n",
       "      <td>24</td>\n",
       "      <td>1</td>\n",
       "      <td>3</td>\n",
       "      <td>1</td>\n",
       "      <td>0</td>\n",
       "      <td>0</td>\n",
       "      <td>0</td>\n",
       "      <td>...</td>\n",
       "      <td>0</td>\n",
       "      <td>1</td>\n",
       "      <td>1</td>\n",
       "      <td>0</td>\n",
       "      <td>1767</td>\n",
       "      <td>8094</td>\n",
       "      <td>3612</td>\n",
       "      <td>0</td>\n",
       "      <td>1</td>\n",
       "      <td>4</td>\n",
       "    </tr>\n",
       "    <tr>\n",
       "      <th>3255</th>\n",
       "      <td>3255</td>\n",
       "      <td>http://mail01.tinyletterapp.com/Support--2/imp...</td>\n",
       "      <td>188</td>\n",
       "      <td>24</td>\n",
       "      <td>1</td>\n",
       "      <td>4</td>\n",
       "      <td>9</td>\n",
       "      <td>0</td>\n",
       "      <td>1</td>\n",
       "      <td>0</td>\n",
       "      <td>...</td>\n",
       "      <td>0</td>\n",
       "      <td>1</td>\n",
       "      <td>0</td>\n",
       "      <td>0</td>\n",
       "      <td>194</td>\n",
       "      <td>2362</td>\n",
       "      <td>173942</td>\n",
       "      <td>0</td>\n",
       "      <td>1</td>\n",
       "      <td>1</td>\n",
       "    </tr>\n",
       "    <tr>\n",
       "      <th>3256</th>\n",
       "      <td>3256</td>\n",
       "      <td>http://amazon-vtech-safe-and-sound-audio.buy.m...</td>\n",
       "      <td>76</td>\n",
       "      <td>47</td>\n",
       "      <td>0</td>\n",
       "      <td>4</td>\n",
       "      <td>6</td>\n",
       "      <td>0</td>\n",
       "      <td>0</td>\n",
       "      <td>0</td>\n",
       "      <td>...</td>\n",
       "      <td>0</td>\n",
       "      <td>1</td>\n",
       "      <td>1</td>\n",
       "      <td>0</td>\n",
       "      <td>568</td>\n",
       "      <td>-1</td>\n",
       "      <td>0</td>\n",
       "      <td>0</td>\n",
       "      <td>1</td>\n",
       "      <td>2</td>\n",
       "    </tr>\n",
       "    <tr>\n",
       "      <th>3257</th>\n",
       "      <td>3257</td>\n",
       "      <td>http://stikkers.mcdir.ru</td>\n",
       "      <td>24</td>\n",
       "      <td>17</td>\n",
       "      <td>0</td>\n",
       "      <td>2</td>\n",
       "      <td>0</td>\n",
       "      <td>0</td>\n",
       "      <td>0</td>\n",
       "      <td>0</td>\n",
       "      <td>...</td>\n",
       "      <td>0</td>\n",
       "      <td>1</td>\n",
       "      <td>0</td>\n",
       "      <td>0</td>\n",
       "      <td>356</td>\n",
       "      <td>5852</td>\n",
       "      <td>76924</td>\n",
       "      <td>0</td>\n",
       "      <td>1</td>\n",
       "      <td>1</td>\n",
       "    </tr>\n",
       "  </tbody>\n",
       "</table>\n",
       "<p>3258 rows × 89 columns</p>\n",
       "</div>"
      ],
      "text/plain": [
       "      Unnamed: 0                                                url  \\\n",
       "0              0  http://kinstationery.com/4tr/?email=nobody@myc...   \n",
       "1              1  https://www.granhongo.com/wp-includes/Login/cu...   \n",
       "2              2                                   http://j.gs/Cpjh   \n",
       "3              3  http://www.learnpunjabi.org/pdf/gslehal-pap18.pdf   \n",
       "4              4    http://42vital.pl/cache/cache/navy/navyfederal/   \n",
       "...          ...                                                ...   \n",
       "3253        3253  http://unitus.mk.ua/sites/default/files/ctools...   \n",
       "3254        3254                   http://vps-a155c406.vps.ovh.net/   \n",
       "3255        3255  http://mail01.tinyletterapp.com/Support--2/imp...   \n",
       "3256        3256  http://amazon-vtech-safe-and-sound-audio.buy.m...   \n",
       "3257        3257                           http://stikkers.mcdir.ru   \n",
       "\n",
       "      length_url  length_hostname  ip  nb_dots  nb_hyphens  nb_at  nb_qm  \\\n",
       "0             58               17   0        2           0      1      1   \n",
       "1            114               17   0        2           2      0      1   \n",
       "2             16                4   0        1           0      0      0   \n",
       "3             49               20   0        3           1      0      0   \n",
       "4             47               10   0        1           0      0      0   \n",
       "...          ...              ...  ..      ...         ...    ...    ...   \n",
       "3253         110               12   0        3           1      0      0   \n",
       "3254          32               24   1        3           1      0      0   \n",
       "3255         188               24   1        4           9      0      1   \n",
       "3256          76               47   0        4           6      0      0   \n",
       "3257          24               17   0        2           0      0      0   \n",
       "\n",
       "      nb_and  ...  empty_title  domain_in_title  domain_with_copyright  \\\n",
       "0          0  ...            0                1                      0   \n",
       "1          0  ...            0                1                      1   \n",
       "2          0  ...            0                1                      0   \n",
       "3          0  ...            1                1                      1   \n",
       "4          0  ...            1                1                      0   \n",
       "...      ...  ...          ...              ...                    ...   \n",
       "3253       0  ...            0                1                      1   \n",
       "3254       0  ...            0                1                      1   \n",
       "3255       0  ...            0                1                      0   \n",
       "3256       0  ...            0                1                      1   \n",
       "3257       0  ...            0                1                      0   \n",
       "\n",
       "      whois_registered_domain  domain_registration_length  domain_age  \\\n",
       "0                           0                         222          -1   \n",
       "1                           0                         221        3065   \n",
       "2                           0                         207          -1   \n",
       "3                           0                         406        5073   \n",
       "4                           0                          93        2098   \n",
       "...                       ...                         ...         ...   \n",
       "3253                        0                         208        3080   \n",
       "3254                        0                        1767        8094   \n",
       "3255                        0                         194        2362   \n",
       "3256                        0                         568          -1   \n",
       "3257                        0                         356        5852   \n",
       "\n",
       "      web_traffic  dns_record  google_index  page_rank  \n",
       "0               0           0             1          1  \n",
       "1               0           0             1          2  \n",
       "2         1590047           0             1          6  \n",
       "3          287661           0             1          5  \n",
       "4               0           0             1          2  \n",
       "...           ...         ...           ...        ...  \n",
       "3253            0           0             1          2  \n",
       "3254         3612           0             1          4  \n",
       "3255       173942           0             1          1  \n",
       "3256            0           0             1          2  \n",
       "3257        76924           0             1          1  \n",
       "\n",
       "[3258 rows x 89 columns]"
      ]
     },
     "execution_count": 23,
     "metadata": {},
     "output_type": "execute_result"
    }
   ],
   "source": [
    "df_submission = pd.read_csv('test.csv')\n",
    "df_submission"
   ]
  },
  {
   "attachments": {},
   "cell_type": "markdown",
   "metadata": {},
   "source": [
    "### 4.2 Prétraitement des données du jeu de test"
   ]
  },
  {
   "cell_type": "code",
   "execution_count": 24,
   "metadata": {},
   "outputs": [
    {
     "name": "stdout",
     "output_type": "stream",
     "text": [
      "Dataset({\n",
      "    features: ['text'],\n",
      "    num_rows: 3258\n",
      "})\n",
      "{'text': 'http://kinstationery.com/4tr/?email=nobody@mycraftmail.com'}\n"
     ]
    }
   ],
   "source": [
    "df_submission = df_submission['url']\n",
    "df_submission = df_submission.rename(\"text\").to_frame()\n",
    "# df_submission\n",
    "dataset_submission= Dataset.from_pandas(df_submission)\n",
    "print(dataset_submission)\n",
    "print(dataset_submission[0])"
   ]
  },
  {
   "cell_type": "code",
   "execution_count": 25,
   "metadata": {},
   "outputs": [
    {
     "name": "stderr",
     "output_type": "stream",
     "text": [
      "                                                                  "
     ]
    },
    {
     "name": "stdout",
     "output_type": "stream",
     "text": [
      "{'text': ['http://kinstationery.com/4tr/?email=nobody@mycraftmail.com', 'https://www.granhongo.com/wp-includes/Login/customer_center/customer-IDPP00C824/myaccount/identity?cmd=_session=US'], 'input_ids': [[101, 8299, 1024, 1013, 1013, 12631, 20100, 7301, 1012, 4012, 1013, 1018, 16344, 1013, 1029, 10373, 1027, 6343, 1030, 2026, 10419, 21397, 1012, 4012, 102, 0, 0, 0, 0, 0, 0, 0, 0, 0, 0, 0, 0, 0, 0, 0, 0, 0, 0, 0, 0, 0, 0, 0, 0, 0], [101, 16770, 1024, 1013, 1013, 7479, 1012, 12604, 19991, 2080, 1012, 4012, 1013, 1059, 2361, 1011, 2950, 1013, 8833, 2378, 1013, 8013, 1035, 2415, 1013, 8013, 1011, 8909, 9397, 8889, 2278, 2620, 18827, 1013, 2026, 6305, 3597, 16671, 1013, 4767, 1029, 4642, 2094, 1027, 1035, 5219, 1027, 2149, 102, 0]], 'token_type_ids': [[0, 0, 0, 0, 0, 0, 0, 0, 0, 0, 0, 0, 0, 0, 0, 0, 0, 0, 0, 0, 0, 0, 0, 0, 0, 0, 0, 0, 0, 0, 0, 0, 0, 0, 0, 0, 0, 0, 0, 0, 0, 0, 0, 0, 0, 0, 0, 0, 0, 0], [0, 0, 0, 0, 0, 0, 0, 0, 0, 0, 0, 0, 0, 0, 0, 0, 0, 0, 0, 0, 0, 0, 0, 0, 0, 0, 0, 0, 0, 0, 0, 0, 0, 0, 0, 0, 0, 0, 0, 0, 0, 0, 0, 0, 0, 0, 0, 0, 0, 0]], 'attention_mask': [[1, 1, 1, 1, 1, 1, 1, 1, 1, 1, 1, 1, 1, 1, 1, 1, 1, 1, 1, 1, 1, 1, 1, 1, 1, 0, 0, 0, 0, 0, 0, 0, 0, 0, 0, 0, 0, 0, 0, 0, 0, 0, 0, 0, 0, 0, 0, 0, 0, 0], [1, 1, 1, 1, 1, 1, 1, 1, 1, 1, 1, 1, 1, 1, 1, 1, 1, 1, 1, 1, 1, 1, 1, 1, 1, 1, 1, 1, 1, 1, 1, 1, 1, 1, 1, 1, 1, 1, 1, 1, 1, 1, 1, 1, 1, 1, 1, 1, 1, 0]]}\n"
     ]
    },
    {
     "name": "stderr",
     "output_type": "stream",
     "text": [
      "\r"
     ]
    }
   ],
   "source": [
    "encoded_dataset_submission = dataset_submission.map(preprocess_function, batched=True)\n",
    "\n",
    "# Afficher les 2 premières lignes du dataset après la tokenization\n",
    "print(encoded_dataset_submission[:2])"
   ]
  },
  {
   "attachments": {},
   "cell_type": "markdown",
   "metadata": {},
   "source": [
    "### 4.3 Prédictions pour la soumission Kaggle"
   ]
  },
  {
   "cell_type": "code",
   "execution_count": 26,
   "metadata": {},
   "outputs": [
    {
     "name": "stderr",
     "output_type": "stream",
     "text": [
      "100%|██████████| 204/204 [00:26<00:00,  7.62it/s]\n"
     ]
    },
    {
     "data": {
      "text/plain": [
       "PredictionOutput(predictions=array([[-2.3728497,  2.6690106],\n",
       "       [-2.3808033,  2.6742992],\n",
       "       [-1.1377612,  1.4587404],\n",
       "       ...,\n",
       "       [-2.3737447,  2.669765 ],\n",
       "       [ 1.6936927, -1.3166003],\n",
       "       [ 1.7669984, -1.7183537]], dtype=float32), label_ids=None, metrics={'test_runtime': 26.9828, 'test_samples_per_second': 120.743, 'test_steps_per_second': 7.56})"
      ]
     },
     "execution_count": 26,
     "metadata": {},
     "output_type": "execute_result"
    }
   ],
   "source": [
    "y_submission = trainer.predict(encoded_dataset_submission)\n",
    "y_submission"
   ]
  },
  {
   "cell_type": "code",
   "execution_count": 27,
   "metadata": {},
   "outputs": [
    {
     "data": {
      "text/plain": [
       "[1, 1, 1, 0, 1, 0, 1, 1, 0, 0]"
      ]
     },
     "execution_count": 27,
     "metadata": {},
     "output_type": "execute_result"
    }
   ],
   "source": [
    "# Appliquer la règle 0/1 à chaque prédiction\n",
    "predictions = [0 if p[0] > p[1] else 1 for p in y_submission.predictions]\n",
    "\n",
    "# Afficher les nouvelles prédictions\n",
    "predictions[:10]"
   ]
  },
  {
   "attachments": {},
   "cell_type": "markdown",
   "metadata": {},
   "source": [
    "### 4.4 Formatage des résultats pour la soumission Kaggle"
   ]
  },
  {
   "cell_type": "code",
   "execution_count": 28,
   "metadata": {},
   "outputs": [],
   "source": [
    "# Remettre le status sous forme \"legitimate\" ou \"phishing\"\n",
    "predictions_decoded = le.inverse_transform(predictions)\n",
    "df_submission = pd.DataFrame(data= {'url': df_submission['text'].values, 'status': predictions_decoded } )\n",
    "\n",
    "df_submission.to_csv('kaggle_submission_4.csv', index=False)"
   ]
  },
  {
   "attachments": {},
   "cell_type": "markdown",
   "metadata": {},
   "source": [
    "## 5. Discussion \n",
    "\n"
   ]
  },
  {
   "attachments": {},
   "cell_type": "markdown",
   "metadata": {},
   "source": [
    "Nous obtenons un score d'environ 0.94 sur Kaggle avec cette approche. Ce qui est un score honorable. <br>\n",
    "Nous avons testé d'autres modèles transformers (DistilBERT, Bert, ...) de la librairie mais les résultats n'étaient pas aussi bon. <br>\n",
    "\n",
    "Malheureusement, il est difficile de comparer tous ces modèles sur un même notebook car nous obtenions beaucoup d'erreurs dues à la limitation de la mémoire. <br> \n",
    "De plus, certains modèles sont sur Pytorch d'autre sur Tensorflow et les temps de compilations sont parfois énormes. <br>\n",
    "\n",
    "De notre point de vu, le modèle que nous avons utilisé semble efficace pour plusieurs raisons :\n",
    "- utiliser un modèle pré-entrainé permet une plus grande connaissance du domaine et donc une meilleure précision\n",
    "- la tokenization utilisée est adaptée pour des urls (à l'inverse des tokenizations courrantes adaptées pour des textes)\n",
    "- d'un point de vu performance, le modèle s'entraine assez rapidement (avec un GPU)\n",
    "\n",
    "Le principal point négatif de notre approche est que nous n'avons pas pris en compte les autres variables du dataset qui auraient pu être pertinantes.\n"
   ]
  }
 ],
 "metadata": {
  "kernelspec": {
   "display_name": "streamlit-env",
   "language": "python",
   "name": "python3"
  },
  "language_info": {
   "codemirror_mode": {
    "name": "ipython",
    "version": 3
   },
   "file_extension": ".py",
   "mimetype": "text/x-python",
   "name": "python",
   "nbconvert_exporter": "python",
   "pygments_lexer": "ipython3",
   "version": "3.10.8"
  },
  "orig_nbformat": 4
 },
 "nbformat": 4,
 "nbformat_minor": 2
}
